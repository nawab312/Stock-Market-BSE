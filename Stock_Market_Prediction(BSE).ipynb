{
  "nbformat": 4,
  "nbformat_minor": 0,
  "metadata": {
    "accelerator": "GPU",
    "colab": {
      "name": "Stock_Market_Prediction(BSE).ipynb",
      "provenance": [],
      "collapsed_sections": []
    },
    "kernelspec": {
      "display_name": "Python 3",
      "name": "python3"
    }
  },
  "cells": [
    {
      "cell_type": "code",
      "metadata": {
        "id": "VP_MritPPdfA"
      },
      "source": [
        "import pandas as pd\r\n",
        "import numpy as np\r\n",
        "import matplotlib.pyplot as plt\r\n",
        "\r\n",
        "from sklearn.preprocessing import MinMaxScaler\r\n",
        "\r\n",
        "import tensorflow as tf\r\n",
        "\r\n",
        "import math\r\n",
        "\r\n",
        "from sklearn.metrics import mean_squared_error"
      ],
      "execution_count": null,
      "outputs": []
    },
    {
      "cell_type": "code",
      "metadata": {
        "id": "D1dJlf73QIZ3"
      },
      "source": [
        "df = pd.read_csv('/content/BSE.csv')\r\n",
        "df.Close = df.Close.interpolate()"
      ],
      "execution_count": null,
      "outputs": []
    },
    {
      "cell_type": "code",
      "metadata": {
        "colab": {
          "base_uri": "https://localhost:8080/"
        },
        "id": "jYyBJdItOeaW",
        "outputId": "65bbaa2b-11e8-41c3-dd97-b308026f828b"
      },
      "source": [
        "df.Close.isnull().sum()"
      ],
      "execution_count": null,
      "outputs": [
        {
          "output_type": "execute_result",
          "data": {
            "text/plain": [
              "0"
            ]
          },
          "metadata": {
            "tags": []
          },
          "execution_count": 5
        }
      ]
    },
    {
      "cell_type": "code",
      "metadata": {
        "id": "RTribBdgV_P3",
        "colab": {
          "base_uri": "https://localhost:8080/",
          "height": 206
        },
        "outputId": "813ae188-c3cb-454f-cfa6-1ac27e2466ff"
      },
      "source": [
        "df.head()"
      ],
      "execution_count": null,
      "outputs": [
        {
          "output_type": "execute_result",
          "data": {
            "text/html": [
              "<div>\n",
              "<style scoped>\n",
              "    .dataframe tbody tr th:only-of-type {\n",
              "        vertical-align: middle;\n",
              "    }\n",
              "\n",
              "    .dataframe tbody tr th {\n",
              "        vertical-align: top;\n",
              "    }\n",
              "\n",
              "    .dataframe thead th {\n",
              "        text-align: right;\n",
              "    }\n",
              "</style>\n",
              "<table border=\"1\" class=\"dataframe\">\n",
              "  <thead>\n",
              "    <tr style=\"text-align: right;\">\n",
              "      <th></th>\n",
              "      <th>Date</th>\n",
              "      <th>Open</th>\n",
              "      <th>High</th>\n",
              "      <th>Low</th>\n",
              "      <th>Close</th>\n",
              "      <th>Adj Close</th>\n",
              "      <th>Volume</th>\n",
              "    </tr>\n",
              "  </thead>\n",
              "  <tbody>\n",
              "    <tr>\n",
              "      <th>0</th>\n",
              "      <td>2010-12-20</td>\n",
              "      <td>19770.019531</td>\n",
              "      <td>20006.160156</td>\n",
              "      <td>19711.119141</td>\n",
              "      <td>19888.880859</td>\n",
              "      <td>19888.880859</td>\n",
              "      <td>11200.0</td>\n",
              "    </tr>\n",
              "    <tr>\n",
              "      <th>1</th>\n",
              "      <td>2010-12-21</td>\n",
              "      <td>19925.759766</td>\n",
              "      <td>20090.839844</td>\n",
              "      <td>19925.759766</td>\n",
              "      <td>20060.320313</td>\n",
              "      <td>20060.320313</td>\n",
              "      <td>14200.0</td>\n",
              "    </tr>\n",
              "    <tr>\n",
              "      <th>2</th>\n",
              "      <td>2010-12-22</td>\n",
              "      <td>20118.820313</td>\n",
              "      <td>20151.250000</td>\n",
              "      <td>19931.310547</td>\n",
              "      <td>20015.800781</td>\n",
              "      <td>20015.800781</td>\n",
              "      <td>12000.0</td>\n",
              "    </tr>\n",
              "    <tr>\n",
              "      <th>3</th>\n",
              "      <td>2010-12-23</td>\n",
              "      <td>20038.830078</td>\n",
              "      <td>20076.080078</td>\n",
              "      <td>19939.300781</td>\n",
              "      <td>19982.880859</td>\n",
              "      <td>19982.880859</td>\n",
              "      <td>7600.0</td>\n",
              "    </tr>\n",
              "    <tr>\n",
              "      <th>4</th>\n",
              "      <td>2010-12-24</td>\n",
              "      <td>19911.460938</td>\n",
              "      <td>20086.419922</td>\n",
              "      <td>19880.359375</td>\n",
              "      <td>20073.660156</td>\n",
              "      <td>20073.660156</td>\n",
              "      <td>16400.0</td>\n",
              "    </tr>\n",
              "  </tbody>\n",
              "</table>\n",
              "</div>"
            ],
            "text/plain": [
              "         Date          Open          High  ...         Close     Adj Close   Volume\n",
              "0  2010-12-20  19770.019531  20006.160156  ...  19888.880859  19888.880859  11200.0\n",
              "1  2010-12-21  19925.759766  20090.839844  ...  20060.320313  20060.320313  14200.0\n",
              "2  2010-12-22  20118.820313  20151.250000  ...  20015.800781  20015.800781  12000.0\n",
              "3  2010-12-23  20038.830078  20076.080078  ...  19982.880859  19982.880859   7600.0\n",
              "4  2010-12-24  19911.460938  20086.419922  ...  20073.660156  20073.660156  16400.0\n",
              "\n",
              "[5 rows x 7 columns]"
            ]
          },
          "metadata": {
            "tags": []
          },
          "execution_count": 6
        }
      ]
    },
    {
      "cell_type": "code",
      "metadata": {
        "colab": {
          "base_uri": "https://localhost:8080/"
        },
        "id": "032iK8LzvDHM",
        "outputId": "6be96bd0-ad12-4d56-87d3-7b26851cb89c"
      },
      "source": [
        "df.reset_index()['Close']"
      ],
      "execution_count": null,
      "outputs": [
        {
          "output_type": "execute_result",
          "data": {
            "text/plain": [
              "0       19888.880859\n",
              "1       20060.320313\n",
              "2       20015.800781\n",
              "3       19982.880859\n",
              "4       20073.660156\n",
              "            ...     \n",
              "2464    45959.878906\n",
              "2465    46099.011719\n",
              "2466    46253.460938\n",
              "2467    46263.171875\n",
              "2468    46666.460938\n",
              "Name: Close, Length: 2469, dtype: float64"
            ]
          },
          "metadata": {
            "tags": []
          },
          "execution_count": 7
        }
      ]
    },
    {
      "cell_type": "code",
      "metadata": {
        "id": "RGdY9oqBVbZZ",
        "colab": {
          "base_uri": "https://localhost:8080/"
        },
        "outputId": "d6459ce2-37a1-4998-f34f-d6cec1ec26f8"
      },
      "source": [
        "df1 = df.reset_index()['Close']\r\n",
        "df1.head()\r\n",
        "type(df1)"
      ],
      "execution_count": null,
      "outputs": [
        {
          "output_type": "execute_result",
          "data": {
            "text/plain": [
              "pandas.core.series.Series"
            ]
          },
          "metadata": {
            "tags": []
          },
          "execution_count": 39
        }
      ]
    },
    {
      "cell_type": "code",
      "metadata": {
        "id": "AGZu_ZiBWB8u",
        "colab": {
          "base_uri": "https://localhost:8080/"
        },
        "outputId": "9cc87bd6-2849-48bd-cedd-38797de6c926"
      },
      "source": [
        "df1.shape"
      ],
      "execution_count": null,
      "outputs": [
        {
          "output_type": "execute_result",
          "data": {
            "text/plain": [
              "(2469,)"
            ]
          },
          "metadata": {
            "tags": []
          },
          "execution_count": 9
        }
      ]
    },
    {
      "cell_type": "code",
      "metadata": {
        "id": "4IuQjhayWj8O",
        "colab": {
          "base_uri": "https://localhost:8080/",
          "height": 283
        },
        "outputId": "b6795862-f9bd-40a6-c5e2-6fdcdbdea59b"
      },
      "source": [
        "plt.plot(df1)"
      ],
      "execution_count": null,
      "outputs": [
        {
          "output_type": "execute_result",
          "data": {
            "text/plain": [
              "[<matplotlib.lines.Line2D at 0x7f99e3422780>]"
            ]
          },
          "metadata": {
            "tags": []
          },
          "execution_count": 10
        },
        {
          "output_type": "display_data",
          "data": {
            "image/png": "[encoded data removed]",
            "text/plain": [
              "<Figure size 432x288 with 1 Axes>"
            ]
          },
          "metadata": {
            "tags": [],
            "needs_background": "light"
          }
        }
      ]
    },
    {
      "cell_type": "code",
      "metadata": {
        "id": "eE8agJZGWrwv"
      },
      "source": [
        "scaler = MinMaxScaler(feature_range=(0,1))\r\n",
        "df1 = scaler.fit_transform(np.array(df1).reshape(-1,1))"
      ],
      "execution_count": null,
      "outputs": []
    },
    {
      "cell_type": "code",
      "metadata": {
        "id": "sTEvFtEbXUe7",
        "colab": {
          "base_uri": "https://localhost:8080/",
          "height": 380
        },
        "outputId": "f0b8bcc0-51e8-4bce-95f5-7c606c0f929b"
      },
      "source": [
        "training_size = int(len(df1)*0.65)\r\n",
        "test_size = int(len(df1)) - training_size\r\n",
        "train_data = df1[0:training_size,:]\r\n",
        "test_data = df1[training_size:len(df1),:]"
      ],
      "execution_count": null,
      "outputs": [
        {
          "output_type": "error",
          "ename": "KeyError",
          "evalue": "ignored",
          "traceback": [
            "\u001b[0;31m---------------------------------------------------------------------------\u001b[0m",
            "\u001b[0;31mKeyError\u001b[0m                                  Traceback (most recent call last)",
            "\u001b[0;32m<ipython-input-44-d69328678c20>\u001b[0m in \u001b[0;36m<module>\u001b[0;34m()\u001b[0m\n\u001b[1;32m      1\u001b[0m \u001b[0mtraining_size\u001b[0m \u001b[0;34m=\u001b[0m \u001b[0mint\u001b[0m\u001b[0;34m(\u001b[0m\u001b[0mlen\u001b[0m\u001b[0;34m(\u001b[0m\u001b[0mdf1\u001b[0m\u001b[0;34m)\u001b[0m\u001b[0;34m*\u001b[0m\u001b[0;36m0.65\u001b[0m\u001b[0;34m)\u001b[0m\u001b[0;34m\u001b[0m\u001b[0;34m\u001b[0m\u001b[0m\n\u001b[1;32m      2\u001b[0m \u001b[0mtest_size\u001b[0m \u001b[0;34m=\u001b[0m \u001b[0mint\u001b[0m\u001b[0;34m(\u001b[0m\u001b[0mlen\u001b[0m\u001b[0;34m(\u001b[0m\u001b[0mdf1\u001b[0m\u001b[0;34m)\u001b[0m\u001b[0;34m)\u001b[0m \u001b[0;34m-\u001b[0m \u001b[0mtraining_size\u001b[0m\u001b[0;34m\u001b[0m\u001b[0;34m\u001b[0m\u001b[0m\n\u001b[0;32m----> 3\u001b[0;31m \u001b[0mtrain_data\u001b[0m \u001b[0;34m=\u001b[0m \u001b[0mdf1\u001b[0m\u001b[0;34m[\u001b[0m\u001b[0;36m0\u001b[0m\u001b[0;34m:\u001b[0m\u001b[0mtraining_size\u001b[0m\u001b[0;34m,\u001b[0m\u001b[0;34m:\u001b[0m\u001b[0;34m]\u001b[0m\u001b[0;34m\u001b[0m\u001b[0;34m\u001b[0m\u001b[0m\n\u001b[0m\u001b[1;32m      4\u001b[0m \u001b[0mtest_data\u001b[0m \u001b[0;34m=\u001b[0m \u001b[0mdf1\u001b[0m\u001b[0;34m[\u001b[0m\u001b[0mtraining_size\u001b[0m\u001b[0;34m:\u001b[0m\u001b[0mlen\u001b[0m\u001b[0;34m(\u001b[0m\u001b[0mdf1\u001b[0m\u001b[0;34m)\u001b[0m\u001b[0;34m,\u001b[0m\u001b[0;34m:\u001b[0m\u001b[0;34m]\u001b[0m\u001b[0;34m\u001b[0m\u001b[0;34m\u001b[0m\u001b[0m\n",
            "\u001b[0;32m/usr/local/lib/python3.6/dist-packages/pandas/core/series.py\u001b[0m in \u001b[0;36m__getitem__\u001b[0;34m(self, key)\u001b[0m\n\u001b[1;32m    904\u001b[0m             \u001b[0;32mreturn\u001b[0m \u001b[0mself\u001b[0m\u001b[0;34m.\u001b[0m\u001b[0m_get_values\u001b[0m\u001b[0;34m(\u001b[0m\u001b[0mkey\u001b[0m\u001b[0;34m)\u001b[0m\u001b[0;34m\u001b[0m\u001b[0;34m\u001b[0m\u001b[0m\n\u001b[1;32m    905\u001b[0m \u001b[0;34m\u001b[0m\u001b[0m\n\u001b[0;32m--> 906\u001b[0;31m         \u001b[0;32mreturn\u001b[0m \u001b[0mself\u001b[0m\u001b[0;34m.\u001b[0m\u001b[0m_get_with\u001b[0m\u001b[0;34m(\u001b[0m\u001b[0mkey\u001b[0m\u001b[0;34m)\u001b[0m\u001b[0;34m\u001b[0m\u001b[0;34m\u001b[0m\u001b[0m\n\u001b[0m\u001b[1;32m    907\u001b[0m \u001b[0;34m\u001b[0m\u001b[0m\n\u001b[1;32m    908\u001b[0m     \u001b[0;32mdef\u001b[0m \u001b[0m_get_with\u001b[0m\u001b[0;34m(\u001b[0m\u001b[0mself\u001b[0m\u001b[0;34m,\u001b[0m \u001b[0mkey\u001b[0m\u001b[0;34m)\u001b[0m\u001b[0;34m:\u001b[0m\u001b[0;34m\u001b[0m\u001b[0;34m\u001b[0m\u001b[0m\n",
            "\u001b[0;32m/usr/local/lib/python3.6/dist-packages/pandas/core/series.py\u001b[0m in \u001b[0;36m_get_with\u001b[0;34m(self, key)\u001b[0m\n\u001b[1;32m    919\u001b[0m             )\n\u001b[1;32m    920\u001b[0m         \u001b[0;32melif\u001b[0m \u001b[0misinstance\u001b[0m\u001b[0;34m(\u001b[0m\u001b[0mkey\u001b[0m\u001b[0;34m,\u001b[0m \u001b[0mtuple\u001b[0m\u001b[0;34m)\u001b[0m\u001b[0;34m:\u001b[0m\u001b[0;34m\u001b[0m\u001b[0;34m\u001b[0m\u001b[0m\n\u001b[0;32m--> 921\u001b[0;31m             \u001b[0;32mreturn\u001b[0m \u001b[0mself\u001b[0m\u001b[0;34m.\u001b[0m\u001b[0m_get_values_tuple\u001b[0m\u001b[0;34m(\u001b[0m\u001b[0mkey\u001b[0m\u001b[0;34m)\u001b[0m\u001b[0;34m\u001b[0m\u001b[0;34m\u001b[0m\u001b[0m\n\u001b[0m\u001b[1;32m    922\u001b[0m \u001b[0;34m\u001b[0m\u001b[0m\n\u001b[1;32m    923\u001b[0m         \u001b[0;32melif\u001b[0m \u001b[0;32mnot\u001b[0m \u001b[0mis_list_like\u001b[0m\u001b[0;34m(\u001b[0m\u001b[0mkey\u001b[0m\u001b[0;34m)\u001b[0m\u001b[0;34m:\u001b[0m\u001b[0;34m\u001b[0m\u001b[0;34m\u001b[0m\u001b[0m\n",
            "\u001b[0;32m/usr/local/lib/python3.6/dist-packages/pandas/core/series.py\u001b[0m in \u001b[0;36m_get_values_tuple\u001b[0;34m(self, key)\u001b[0m\n\u001b[1;32m    954\u001b[0m \u001b[0;34m\u001b[0m\u001b[0m\n\u001b[1;32m    955\u001b[0m         \u001b[0;32mif\u001b[0m \u001b[0;32mnot\u001b[0m \u001b[0misinstance\u001b[0m\u001b[0;34m(\u001b[0m\u001b[0mself\u001b[0m\u001b[0;34m.\u001b[0m\u001b[0mindex\u001b[0m\u001b[0;34m,\u001b[0m \u001b[0mMultiIndex\u001b[0m\u001b[0;34m)\u001b[0m\u001b[0;34m:\u001b[0m\u001b[0;34m\u001b[0m\u001b[0;34m\u001b[0m\u001b[0m\n\u001b[0;32m--> 956\u001b[0;31m             \u001b[0;32mraise\u001b[0m \u001b[0mKeyError\u001b[0m\u001b[0;34m(\u001b[0m\u001b[0;34m\"key of type tuple not found and not a MultiIndex\"\u001b[0m\u001b[0;34m)\u001b[0m\u001b[0;34m\u001b[0m\u001b[0;34m\u001b[0m\u001b[0m\n\u001b[0m\u001b[1;32m    957\u001b[0m \u001b[0;34m\u001b[0m\u001b[0m\n\u001b[1;32m    958\u001b[0m         \u001b[0;31m# If key is contained, would have returned by now\u001b[0m\u001b[0;34m\u001b[0m\u001b[0;34m\u001b[0m\u001b[0;34m\u001b[0m\u001b[0m\n",
            "\u001b[0;31mKeyError\u001b[0m: 'key of type tuple not found and not a MultiIndex'"
          ]
        }
      ]
    },
    {
      "cell_type": "code",
      "metadata": {
        "id": "Lt6_HhMmajDT",
        "colab": {
          "base_uri": "https://localhost:8080/"
        },
        "outputId": "712b920e-b13a-45a3-f431-339f46f36617"
      },
      "source": [
        "train_data.shape"
      ],
      "execution_count": null,
      "outputs": [
        {
          "output_type": "execute_result",
          "data": {
            "text/plain": [
              "(1604, 1)"
            ]
          },
          "metadata": {
            "tags": []
          },
          "execution_count": 14
        }
      ]
    },
    {
      "cell_type": "code",
      "metadata": {
        "id": "sfpjzDocakbQ",
        "colab": {
          "base_uri": "https://localhost:8080/"
        },
        "outputId": "548dadc2-fa83-4afa-8416-94a12a49f6e7"
      },
      "source": [
        "test_data.shape"
      ],
      "execution_count": null,
      "outputs": [
        {
          "output_type": "execute_result",
          "data": {
            "text/plain": [
              "(865, 1)"
            ]
          },
          "metadata": {
            "tags": []
          },
          "execution_count": 15
        }
      ]
    },
    {
      "cell_type": "code",
      "metadata": {
        "id": "Snh5xdtKalQi"
      },
      "source": [
        "def create_dataset(dataset, time_step=1):\r\n",
        "  dataX, dataY = [], []\r\n",
        "  for i in range(len(dataset)-time_step-1):\r\n",
        "    a = dataset[i:(i+time_step), 0]\r\n",
        "    dataX.append(a)\r\n",
        "    dataY.append(dataset[i+time_step, 0])\r\n",
        "  return np.array(dataX), np.array(dataY)"
      ],
      "execution_count": null,
      "outputs": []
    },
    {
      "cell_type": "code",
      "metadata": {
        "id": "cBZFnsLWdeDh"
      },
      "source": [
        "time_step = 100\r\n",
        "X_train, y_train = create_dataset(train_data, time_step)\r\n",
        "X_test, y_test = create_dataset(test_data, time_step)"
      ],
      "execution_count": null,
      "outputs": []
    },
    {
      "cell_type": "code",
      "metadata": {
        "id": "yxg0MdrHd6bj",
        "colab": {
          "base_uri": "https://localhost:8080/"
        },
        "outputId": "f590b9d4-43f5-4801-e4f9-158dd0d6377e"
      },
      "source": [
        "X_train"
      ],
      "execution_count": null,
      "outputs": [
        {
          "output_type": "execute_result",
          "data": {
            "text/plain": [
              "array([[0.14968543, 0.15512944, 0.15371573, ..., 0.10827981, 0.10036743,\n",
              "        0.10657517],\n",
              "       [0.15512944, 0.15371573, 0.15267037, ..., 0.10036743, 0.10657517,\n",
              "        0.10066085],\n",
              "       [0.15371573, 0.15267037, 0.15555304, ..., 0.10657517, 0.10066085,\n",
              "        0.09406604],\n",
              "       ...,\n",
              "       [0.38305657, 0.38464778, 0.38298035, ..., 0.51113031, 0.50929108,\n",
              "        0.51083757],\n",
              "       [0.38464778, 0.38298035, 0.38367833, ..., 0.50929108, 0.51083757,\n",
              "        0.50555481],\n",
              "       [0.38298035, 0.38367833, 0.38529652, ..., 0.51083757, 0.50555481,\n",
              "        0.50580221]])"
            ]
          },
          "metadata": {
            "tags": []
          },
          "execution_count": 18
        }
      ]
    },
    {
      "cell_type": "code",
      "metadata": {
        "id": "Ht0eNl17fnnB"
      },
      "source": [
        "X_train = X_train.reshape(X_train.shape[0], X_train.shape[1], 1)\r\n",
        "X_test = X_test.reshape(X_test.shape[0], X_test.shape[1], 1)"
      ],
      "execution_count": null,
      "outputs": []
    },
    {
      "cell_type": "code",
      "metadata": {
        "id": "55AcIFFwgcJC"
      },
      "source": [
        "from tensorflow.keras.models import Sequential\r\n",
        "from tensorflow.keras.layers import Dense\r\n",
        "from tensorflow.keras.layers import LSTM"
      ],
      "execution_count": null,
      "outputs": []
    },
    {
      "cell_type": "code",
      "metadata": {
        "id": "Z_zUcc6mgzKP"
      },
      "source": [
        "model = Sequential()\r\n",
        "model.add(LSTM(50, return_sequences=True, input_shape=(100,1)))\r\n",
        "model.add(LSTM(50, return_sequences=True))\r\n",
        "model.add(LSTM(50))\r\n",
        "model.add(Dense(1))\r\n",
        "model.compile(loss='mean_squared_error', optimizer='adam')"
      ],
      "execution_count": null,
      "outputs": []
    },
    {
      "cell_type": "code",
      "metadata": {
        "colab": {
          "base_uri": "https://localhost:8080/"
        },
        "id": "3kzMnZiohQD5",
        "outputId": "81c96396-aa7c-4e90-c92e-9c2347c83beb"
      },
      "source": [
        "model.summary()"
      ],
      "execution_count": null,
      "outputs": [
        {
          "output_type": "stream",
          "text": [
            "Model: \"sequential\"\n",
            "_________________________________________________________________\n",
            "Layer (type)                 Output Shape              Param #   \n",
            "=================================================================\n",
            "lstm (LSTM)                  (None, 100, 50)           10400     \n",
            "_________________________________________________________________\n",
            "lstm_1 (LSTM)                (None, 100, 50)           20200     \n",
            "_________________________________________________________________\n",
            "lstm_2 (LSTM)                (None, 50)                20200     \n",
            "_________________________________________________________________\n",
            "dense (Dense)                (None, 1)                 51        \n",
            "=================================================================\n",
            "Total params: 50,851\n",
            "Trainable params: 50,851\n",
            "Non-trainable params: 0\n",
            "_________________________________________________________________\n"
          ],
          "name": "stdout"
        }
      ]
    },
    {
      "cell_type": "code",
      "metadata": {
        "id": "ytjDI-rphbLL",
        "colab": {
          "base_uri": "https://localhost:8080/"
        },
        "outputId": "8240f4b4-0f25-4188-bbbe-49c21d635eb8"
      },
      "source": [
        "model.fit(X_train, y_train,\r\n",
        "          validation_data=(X_test, y_test),\r\n",
        "          epochs=100, batch_size=64, verbose=1\r\n",
        "          )"
      ],
      "execution_count": null,
      "outputs": [
        {
          "output_type": "stream",
          "text": [
            "Epoch 1/100\n",
            "24/24 [==============================] - 10s 215ms/step - loss: 0.0245 - val_loss: 0.0035\n",
            "Epoch 2/100\n",
            "24/24 [==============================] - 4s 172ms/step - loss: 9.7355e-04 - val_loss: 0.0029\n",
            "Epoch 3/100\n",
            "24/24 [==============================] - 4s 171ms/step - loss: 4.8582e-04 - val_loss: 0.0026\n",
            "Epoch 4/100\n",
            "24/24 [==============================] - 4s 172ms/step - loss: 4.1087e-04 - val_loss: 0.0027\n",
            "Epoch 5/100\n",
            "24/24 [==============================] - 5s 198ms/step - loss: 4.4166e-04 - val_loss: 0.0023\n",
            "Epoch 6/100\n",
            "24/24 [==============================] - 4s 181ms/step - loss: 4.2716e-04 - val_loss: 0.0026\n",
            "Epoch 7/100\n",
            "24/24 [==============================] - 4s 175ms/step - loss: 4.0081e-04 - val_loss: 0.0027\n",
            "Epoch 8/100\n",
            "24/24 [==============================] - 4s 173ms/step - loss: 3.8837e-04 - val_loss: 0.0021\n",
            "Epoch 9/100\n",
            "24/24 [==============================] - 4s 176ms/step - loss: 3.8264e-04 - val_loss: 0.0025\n",
            "Epoch 10/100\n",
            "24/24 [==============================] - 4s 176ms/step - loss: 3.9685e-04 - val_loss: 0.0020\n",
            "Epoch 11/100\n",
            "24/24 [==============================] - 4s 176ms/step - loss: 3.8141e-04 - val_loss: 0.0023\n",
            "Epoch 12/100\n",
            "24/24 [==============================] - 4s 172ms/step - loss: 3.7465e-04 - val_loss: 0.0026\n",
            "Epoch 13/100\n",
            "24/24 [==============================] - 4s 181ms/step - loss: 3.3516e-04 - val_loss: 0.0022\n",
            "Epoch 14/100\n",
            "24/24 [==============================] - 4s 174ms/step - loss: 3.3300e-04 - val_loss: 0.0023\n",
            "Epoch 15/100\n",
            "24/24 [==============================] - 4s 172ms/step - loss: 3.2984e-04 - val_loss: 0.0027\n",
            "Epoch 16/100\n",
            "24/24 [==============================] - 4s 178ms/step - loss: 3.0634e-04 - val_loss: 0.0037\n",
            "Epoch 17/100\n",
            "24/24 [==============================] - 4s 174ms/step - loss: 3.1434e-04 - val_loss: 0.0022\n",
            "Epoch 18/100\n",
            "24/24 [==============================] - 4s 171ms/step - loss: 3.0979e-04 - val_loss: 0.0017\n",
            "Epoch 19/100\n",
            "24/24 [==============================] - 4s 171ms/step - loss: 3.2606e-04 - val_loss: 0.0014\n",
            "Epoch 20/100\n",
            "24/24 [==============================] - 5s 192ms/step - loss: 3.4293e-04 - val_loss: 0.0015\n",
            "Epoch 21/100\n",
            "24/24 [==============================] - 4s 179ms/step - loss: 2.7980e-04 - val_loss: 0.0031\n",
            "Epoch 22/100\n",
            "24/24 [==============================] - 4s 173ms/step - loss: 3.1085e-04 - val_loss: 0.0011\n",
            "Epoch 23/100\n",
            "24/24 [==============================] - 4s 176ms/step - loss: 3.3411e-04 - val_loss: 0.0023\n",
            "Epoch 24/100\n",
            "24/24 [==============================] - 4s 173ms/step - loss: 2.9196e-04 - val_loss: 0.0011\n",
            "Epoch 25/100\n",
            "24/24 [==============================] - 4s 173ms/step - loss: 2.7741e-04 - val_loss: 0.0013\n",
            "Epoch 26/100\n",
            "24/24 [==============================] - 4s 172ms/step - loss: 2.7496e-04 - val_loss: 0.0017\n",
            "Epoch 27/100\n",
            "24/24 [==============================] - 4s 187ms/step - loss: 2.4290e-04 - val_loss: 0.0013\n",
            "Epoch 28/100\n",
            "24/24 [==============================] - 4s 177ms/step - loss: 2.5962e-04 - val_loss: 0.0016\n",
            "Epoch 29/100\n",
            "24/24 [==============================] - 4s 173ms/step - loss: 2.3651e-04 - val_loss: 0.0023\n",
            "Epoch 30/100\n",
            "24/24 [==============================] - 4s 181ms/step - loss: 2.8186e-04 - val_loss: 0.0021\n",
            "Epoch 31/100\n",
            "24/24 [==============================] - 4s 186ms/step - loss: 2.7890e-04 - val_loss: 0.0010\n",
            "Epoch 32/100\n",
            "24/24 [==============================] - 4s 181ms/step - loss: 2.3077e-04 - val_loss: 0.0018\n",
            "Epoch 33/100\n",
            "24/24 [==============================] - 4s 180ms/step - loss: 2.1330e-04 - val_loss: 7.7505e-04\n",
            "Epoch 34/100\n",
            "24/24 [==============================] - 5s 193ms/step - loss: 2.2163e-04 - val_loss: 9.4947e-04\n",
            "Epoch 35/100\n",
            "24/24 [==============================] - 5s 192ms/step - loss: 2.1062e-04 - val_loss: 0.0020\n",
            "Epoch 36/100\n",
            "24/24 [==============================] - 5s 200ms/step - loss: 2.4039e-04 - val_loss: 9.0739e-04\n",
            "Epoch 37/100\n",
            "24/24 [==============================] - 4s 187ms/step - loss: 2.1434e-04 - val_loss: 9.7662e-04\n",
            "Epoch 38/100\n",
            "24/24 [==============================] - 4s 186ms/step - loss: 2.0327e-04 - val_loss: 0.0012\n",
            "Epoch 39/100\n",
            "24/24 [==============================] - 4s 182ms/step - loss: 1.8656e-04 - val_loss: 0.0010\n",
            "Epoch 40/100\n",
            "24/24 [==============================] - 4s 182ms/step - loss: 1.9327e-04 - val_loss: 6.2187e-04\n",
            "Epoch 41/100\n",
            "24/24 [==============================] - 5s 203ms/step - loss: 2.6432e-04 - val_loss: 8.1410e-04\n",
            "Epoch 42/100\n",
            "24/24 [==============================] - 4s 181ms/step - loss: 1.9132e-04 - val_loss: 6.0861e-04\n",
            "Epoch 43/100\n",
            "24/24 [==============================] - 4s 178ms/step - loss: 1.9069e-04 - val_loss: 6.8362e-04\n",
            "Epoch 44/100\n",
            "24/24 [==============================] - 4s 185ms/step - loss: 1.9642e-04 - val_loss: 7.0484e-04\n",
            "Epoch 45/100\n",
            "24/24 [==============================] - 4s 184ms/step - loss: 1.9146e-04 - val_loss: 0.0014\n",
            "Epoch 46/100\n",
            "24/24 [==============================] - 4s 178ms/step - loss: 1.7158e-04 - val_loss: 0.0010\n",
            "Epoch 47/100\n",
            "24/24 [==============================] - 4s 183ms/step - loss: 1.7194e-04 - val_loss: 6.7557e-04\n",
            "Epoch 48/100\n",
            "24/24 [==============================] - 5s 191ms/step - loss: 1.4855e-04 - val_loss: 5.0475e-04\n",
            "Epoch 49/100\n",
            "24/24 [==============================] - 4s 184ms/step - loss: 1.4851e-04 - val_loss: 7.2169e-04\n",
            "Epoch 50/100\n",
            "24/24 [==============================] - 5s 194ms/step - loss: 1.5936e-04 - val_loss: 7.8705e-04\n",
            "Epoch 51/100\n",
            "24/24 [==============================] - 4s 182ms/step - loss: 1.7082e-04 - val_loss: 4.2087e-04\n",
            "Epoch 52/100\n",
            "24/24 [==============================] - 4s 183ms/step - loss: 1.6152e-04 - val_loss: 4.0493e-04\n",
            "Epoch 53/100\n",
            "24/24 [==============================] - 4s 181ms/step - loss: 1.7914e-04 - val_loss: 0.0010\n",
            "Epoch 54/100\n",
            "24/24 [==============================] - 4s 181ms/step - loss: 1.5083e-04 - val_loss: 0.0019\n",
            "Epoch 55/100\n",
            "24/24 [==============================] - 4s 179ms/step - loss: 1.8231e-04 - val_loss: 0.0013\n",
            "Epoch 56/100\n",
            "24/24 [==============================] - 4s 178ms/step - loss: 1.4375e-04 - val_loss: 4.2599e-04\n",
            "Epoch 57/100\n",
            "24/24 [==============================] - 4s 187ms/step - loss: 1.1917e-04 - val_loss: 3.7909e-04\n",
            "Epoch 58/100\n",
            "24/24 [==============================] - 4s 182ms/step - loss: 1.1609e-04 - val_loss: 3.7982e-04\n",
            "Epoch 59/100\n",
            "24/24 [==============================] - 4s 181ms/step - loss: 1.2205e-04 - val_loss: 3.8500e-04\n",
            "Epoch 60/100\n",
            "24/24 [==============================] - 6s 240ms/step - loss: 1.1755e-04 - val_loss: 3.1645e-04\n",
            "Epoch 61/100\n",
            "24/24 [==============================] - 6s 258ms/step - loss: 1.1921e-04 - val_loss: 3.0053e-04\n",
            "Epoch 62/100\n",
            "24/24 [==============================] - 5s 190ms/step - loss: 1.2739e-04 - val_loss: 3.7515e-04\n",
            "Epoch 63/100\n",
            "24/24 [==============================] - 5s 205ms/step - loss: 1.1836e-04 - val_loss: 3.0015e-04\n",
            "Epoch 64/100\n",
            "24/24 [==============================] - 5s 203ms/step - loss: 1.0616e-04 - val_loss: 3.3933e-04\n",
            "Epoch 65/100\n",
            "24/24 [==============================] - 5s 191ms/step - loss: 9.9320e-05 - val_loss: 5.0879e-04\n",
            "Epoch 66/100\n",
            "24/24 [==============================] - 4s 177ms/step - loss: 1.3748e-04 - val_loss: 3.1474e-04\n",
            "Epoch 67/100\n",
            "24/24 [==============================] - 4s 181ms/step - loss: 1.1652e-04 - val_loss: 2.8146e-04\n",
            "Epoch 68/100\n",
            "24/24 [==============================] - 5s 196ms/step - loss: 9.6886e-05 - val_loss: 4.5424e-04\n",
            "Epoch 69/100\n",
            "24/24 [==============================] - 4s 175ms/step - loss: 9.5800e-05 - val_loss: 2.9329e-04\n",
            "Epoch 70/100\n",
            "24/24 [==============================] - 4s 180ms/step - loss: 9.0423e-05 - val_loss: 8.4574e-04\n",
            "Epoch 71/100\n",
            "24/24 [==============================] - 4s 181ms/step - loss: 1.0860e-04 - val_loss: 5.4769e-04\n",
            "Epoch 72/100\n",
            "24/24 [==============================] - 4s 188ms/step - loss: 1.2267e-04 - val_loss: 0.0013\n",
            "Epoch 73/100\n",
            "24/24 [==============================] - 4s 185ms/step - loss: 1.2321e-04 - val_loss: 4.7167e-04\n",
            "Epoch 74/100\n",
            "24/24 [==============================] - 5s 190ms/step - loss: 1.0214e-04 - val_loss: 4.9632e-04\n",
            "Epoch 75/100\n",
            "24/24 [==============================] - 5s 198ms/step - loss: 1.1144e-04 - val_loss: 6.3550e-04\n",
            "Epoch 76/100\n",
            "24/24 [==============================] - 4s 181ms/step - loss: 9.5568e-05 - val_loss: 3.6879e-04\n",
            "Epoch 77/100\n",
            "24/24 [==============================] - 4s 181ms/step - loss: 8.7169e-05 - val_loss: 2.2444e-04\n",
            "Epoch 78/100\n",
            "24/24 [==============================] - 4s 180ms/step - loss: 9.0374e-05 - val_loss: 2.6955e-04\n",
            "Epoch 79/100\n",
            "24/24 [==============================] - 4s 183ms/step - loss: 8.7730e-05 - val_loss: 3.9807e-04\n",
            "Epoch 80/100\n",
            "24/24 [==============================] - 4s 180ms/step - loss: 1.0318e-04 - val_loss: 2.9463e-04\n",
            "Epoch 81/100\n",
            "24/24 [==============================] - 5s 189ms/step - loss: 8.6876e-05 - val_loss: 4.5230e-04\n",
            "Epoch 82/100\n",
            "24/24 [==============================] - 4s 180ms/step - loss: 8.1985e-05 - val_loss: 2.1513e-04\n",
            "Epoch 83/100\n",
            "24/24 [==============================] - 4s 178ms/step - loss: 7.7633e-05 - val_loss: 3.9544e-04\n",
            "Epoch 84/100\n",
            "24/24 [==============================] - 4s 180ms/step - loss: 9.1863e-05 - val_loss: 3.6325e-04\n",
            "Epoch 85/100\n",
            "24/24 [==============================] - 4s 181ms/step - loss: 8.0649e-05 - val_loss: 2.1060e-04\n",
            "Epoch 86/100\n",
            "24/24 [==============================] - 4s 177ms/step - loss: 7.6805e-05 - val_loss: 3.0301e-04\n",
            "Epoch 87/100\n",
            "24/24 [==============================] - 5s 192ms/step - loss: 1.0255e-04 - val_loss: 3.8045e-04\n",
            "Epoch 88/100\n",
            "24/24 [==============================] - 5s 188ms/step - loss: 7.9779e-05 - val_loss: 2.0928e-04\n",
            "Epoch 89/100\n",
            "24/24 [==============================] - 4s 182ms/step - loss: 7.3224e-05 - val_loss: 2.1919e-04\n",
            "Epoch 90/100\n",
            "24/24 [==============================] - 4s 180ms/step - loss: 6.8244e-05 - val_loss: 3.3897e-04\n",
            "Epoch 91/100\n",
            "24/24 [==============================] - 4s 178ms/step - loss: 6.9888e-05 - val_loss: 2.1957e-04\n",
            "Epoch 92/100\n",
            "24/24 [==============================] - 4s 175ms/step - loss: 6.9620e-05 - val_loss: 3.9044e-04\n",
            "Epoch 93/100\n",
            "24/24 [==============================] - 4s 175ms/step - loss: 7.1534e-05 - val_loss: 2.7791e-04\n",
            "Epoch 94/100\n",
            "24/24 [==============================] - 4s 177ms/step - loss: 7.9290e-05 - val_loss: 2.1146e-04\n",
            "Epoch 95/100\n",
            "24/24 [==============================] - 4s 180ms/step - loss: 6.5267e-05 - val_loss: 2.3247e-04\n",
            "Epoch 96/100\n",
            "24/24 [==============================] - 5s 193ms/step - loss: 6.1403e-05 - val_loss: 3.1861e-04\n",
            "Epoch 97/100\n",
            "24/24 [==============================] - 4s 172ms/step - loss: 6.7216e-05 - val_loss: 2.2429e-04\n",
            "Epoch 98/100\n",
            "24/24 [==============================] - 4s 175ms/step - loss: 7.0931e-05 - val_loss: 2.9349e-04\n",
            "Epoch 99/100\n",
            "24/24 [==============================] - 4s 182ms/step - loss: 6.4839e-05 - val_loss: 3.2235e-04\n",
            "Epoch 100/100\n",
            "24/24 [==============================] - 4s 177ms/step - loss: 7.1304e-05 - val_loss: 2.1350e-04\n"
          ],
          "name": "stdout"
        },
        {
          "output_type": "execute_result",
          "data": {
            "text/plain": [
              "<tensorflow.python.keras.callbacks.History at 0x7f99df6716a0>"
            ]
          },
          "metadata": {
            "tags": []
          },
          "execution_count": 23
        }
      ]
    },
    {
      "cell_type": "code",
      "metadata": {
        "id": "MJOEBBrNh-gI"
      },
      "source": [
        "train_predict = model.predict(X_train)\r\n",
        "test_predict = model.predict(X_test)"
      ],
      "execution_count": null,
      "outputs": []
    },
    {
      "cell_type": "code",
      "metadata": {
        "id": "VEq8zgXXLuu6"
      },
      "source": [
        "train_predict = scaler.inverse_transform(train_predict)\r\n",
        "test_predict = scaler.inverse_transform(test_predict)"
      ],
      "execution_count": null,
      "outputs": []
    },
    {
      "cell_type": "code",
      "metadata": {
        "colab": {
          "base_uri": "https://localhost:8080/"
        },
        "id": "Tlwb-9a4MJVd",
        "outputId": "0abf0ddc-03bd-47dc-98d8-b7d466a2f30f"
      },
      "source": [
        "math.sqrt(mean_squared_error(y_train, train_predict))"
      ],
      "execution_count": null,
      "outputs": [
        {
          "output_type": "execute_result",
          "data": {
            "text/plain": [
              "23462.054664834868"
            ]
          },
          "metadata": {
            "tags": []
          },
          "execution_count": 26
        }
      ]
    },
    {
      "cell_type": "code",
      "metadata": {
        "colab": {
          "base_uri": "https://localhost:8080/"
        },
        "id": "l2ZmsAjFMnaY",
        "outputId": "15448338-afd4-4f68-8a95-3ae79a6402ed"
      },
      "source": [
        "math.sqrt(mean_squared_error(y_test, test_predict))"
      ],
      "execution_count": null,
      "outputs": [
        {
          "output_type": "execute_result",
          "data": {
            "text/plain": [
              "37040.45457180425"
            ]
          },
          "metadata": {
            "tags": []
          },
          "execution_count": 27
        }
      ]
    },
    {
      "cell_type": "code",
      "metadata": {
        "id": "Kvo5B89Lafbi"
      },
      "source": [
        "a = np.empty_like(df1)\r\n",
        "a[:,:] = np.nan\r\n",
        "a[100:len(train_predict)+100,:] = train_predict\r\n"
      ],
      "execution_count": null,
      "outputs": []
    },
    {
      "cell_type": "code",
      "metadata": {
        "colab": {
          "base_uri": "https://localhost:8080/",
          "height": 265
        },
        "id": "K-SDhcJ8YFVH",
        "outputId": "68da6258-06d2-4a44-fb7c-f98bb4346f17"
      },
      "source": [
        "look_back = 100\r\n",
        "trainPredictPlot = np.empty_like(df1)\r\n",
        "trainPredictPlot[:, :] = np.nan\r\n",
        "trainPredictPlot[look_back:len(train_predict)+look_back, :] = train_predict\r\n",
        "\r\n",
        "testPredictPlot = np.empty_like(df1)\r\n",
        "testPredictPlot[:,:] = np.nan\r\n",
        "testPredictPlot[len(train_predict)+(look_back*2)+1:len(df1)-1,:] = test_predict\r\n",
        "\r\n",
        "plt.plot(scaler.inverse_transform(df1))\r\n",
        "plt.plot(trainPredictPlot)\r\n",
        "plt.plot(testPredictPlot)\r\n",
        "plt.show()"
      ],
      "execution_count": null,
      "outputs": [
        {
          "output_type": "display_data",
          "data": {
            "image/png": "[encoded data removed]",
            "text/plain": [
              "<Figure size 432x288 with 1 Axes>"
            ]
          },
          "metadata": {
            "tags": [],
            "needs_background": "light"
          }
        }
      ]
    },
    {
      "cell_type": "code",
      "metadata": {
        "colab": {
          "base_uri": "https://localhost:8080/"
        },
        "id": "5x6gsc91gg70",
        "outputId": "03a50716-580f-466d-e822-3feba457d096"
      },
      "source": [
        "len(test_data)"
      ],
      "execution_count": null,
      "outputs": [
        {
          "output_type": "execute_result",
          "data": {
            "text/plain": [
              "865"
            ]
          },
          "metadata": {
            "tags": []
          },
          "execution_count": 30
        }
      ]
    },
    {
      "cell_type": "code",
      "metadata": {
        "colab": {
          "base_uri": "https://localhost:8080/"
        },
        "id": "lw2Jc2k2hghV",
        "outputId": "c32391da-644b-4f8b-c196-6262b08d79ad"
      },
      "source": [
        "x_input = test_data[765:].reshape(1,-1)\r\n",
        "x_input.shape"
      ],
      "execution_count": null,
      "outputs": [
        {
          "output_type": "execute_result",
          "data": {
            "text/plain": [
              "(1, 100)"
            ]
          },
          "metadata": {
            "tags": []
          },
          "execution_count": 31
        }
      ]
    },
    {
      "cell_type": "code",
      "metadata": {
        "id": "DG0p_oanhpNb"
      },
      "source": [
        "temp_input = list(x_input)\r\n",
        "temp_input = temp_input[0].tolist()"
      ],
      "execution_count": null,
      "outputs": []
    },
    {
      "cell_type": "code",
      "metadata": {
        "colab": {
          "base_uri": "https://localhost:8080/"
        },
        "id": "gSbp7ogAhsmo",
        "outputId": "80d44119-a3c0-448f-9481-3aedf451ede7"
      },
      "source": [
        "lst_output = []\r\n",
        "n_steps = 100\r\n",
        "i = 0\r\n",
        "while(i<30):\r\n",
        "  if(len(temp_input)>100):\r\n",
        "    x_input = np.array(temp_input[1:])\r\n",
        "    print('{} day input {}'.format(i, x_input))\r\n",
        "    x_input = x_input.reshape(1,-1)\r\n",
        "    x_input = x_input.reshape((1,n_steps,1))\r\n",
        "    yhat = model.predict(x_input, verbose=0)\r\n",
        "    print('{} dayoutput {}'.format(i, yhat))\r\n",
        "    temp_input.extend(yhat[0].tolist())\r\n",
        "    temp_input = temp_input[1:]\r\n",
        "\r\n",
        "    lst_output.extend(yhat.tolist())\r\n",
        "    i += 1\r\n",
        "\r\n",
        "  else:\r\n",
        "    x_input = x_input.reshape((1, n_steps, 1))\r\n",
        "    yhat = model.predict(x_input, verbose=0)\r\n",
        "    print(yhat[0])\r\n",
        "    temp_input.extend(yhat[0].tolist())\r\n",
        "    print(len(temp_input))\r\n",
        "    lst_output.extend(yhat.tolist())\r\n",
        "    i += 1\r\n",
        "  \r\n",
        "print(lst_output)"
      ],
      "execution_count": null,
      "outputs": [
        {
          "output_type": "stream",
          "text": [
            "[0.99815524]\n",
            "101\n",
            "1 day input [0.72705763 0.71641794 0.71231588 0.6911263  0.71488863 0.71410803\n",
            " 0.72560709 0.72608725 0.73058079 0.7377235  0.73653642 0.73465842\n",
            " 0.72090392 0.7264115  0.74157562 0.74432141 0.7317974  0.73860333\n",
            " 0.75017346 0.75159609 0.75890104 0.76015684 0.77139293 0.7447501\n",
            " 0.75340363 0.75928557 0.75626602 0.7361411  0.73804799 0.73640059\n",
            " 0.73095689 0.75148309 0.75193498 0.74882549 0.75796205 0.76617064\n",
            " 0.75591387 0.75165774 0.72588308 0.71635468 0.71426978 0.67886898\n",
            " 0.70538603 0.72421559 0.72394852 0.72695604 0.74693361 0.7557185\n",
            " 0.77479899 0.78446446 0.79410909 0.80448705 0.80716437 0.80817135\n",
            " 0.81354509 0.77968414 0.78776795 0.80201378 0.80559475 0.81076878\n",
            " 0.80604303 0.81007626 0.79292871 0.80488758 0.78584616 0.780365\n",
            " 0.77605331 0.78061036 0.79660047 0.80787377 0.83086481 0.84842194\n",
            " 0.87078905 0.89238921 0.90242444 0.89491507 0.8976399  0.90573276\n",
            " 0.91382563 0.92104474 0.90262415 0.91158816 0.91777711 0.93193562\n",
            " 0.90986869 0.92357519 0.92008156 0.93614064 0.93495294 0.93541685\n",
            " 0.94960811 0.96064027 0.96640512 0.98212333 0.97756269 0.98198081\n",
            " 0.9868853  0.98719367 1.         0.99815524]\n",
            "1 dayoutput [[0.9902445]]\n",
            "2 day input [0.71641794 0.71231588 0.6911263  0.71488863 0.71410803 0.72560709\n",
            " 0.72608725 0.73058079 0.7377235  0.73653642 0.73465842 0.72090392\n",
            " 0.7264115  0.74157562 0.74432141 0.7317974  0.73860333 0.75017346\n",
            " 0.75159609 0.75890104 0.76015684 0.77139293 0.7447501  0.75340363\n",
            " 0.75928557 0.75626602 0.7361411  0.73804799 0.73640059 0.73095689\n",
            " 0.75148309 0.75193498 0.74882549 0.75796205 0.76617064 0.75591387\n",
            " 0.75165774 0.72588308 0.71635468 0.71426978 0.67886898 0.70538603\n",
            " 0.72421559 0.72394852 0.72695604 0.74693361 0.7557185  0.77479899\n",
            " 0.78446446 0.79410909 0.80448705 0.80716437 0.80817135 0.81354509\n",
            " 0.77968414 0.78776795 0.80201378 0.80559475 0.81076878 0.80604303\n",
            " 0.81007626 0.79292871 0.80488758 0.78584616 0.780365   0.77605331\n",
            " 0.78061036 0.79660047 0.80787377 0.83086481 0.84842194 0.87078905\n",
            " 0.89238921 0.90242444 0.89491507 0.8976399  0.90573276 0.91382563\n",
            " 0.92104474 0.90262415 0.91158816 0.91777711 0.93193562 0.90986869\n",
            " 0.92357519 0.92008156 0.93614064 0.93495294 0.93541685 0.94960811\n",
            " 0.96064027 0.96640512 0.98212333 0.97756269 0.98198081 0.9868853\n",
            " 0.98719367 1.         0.99815524 0.99024451]\n",
            "2 dayoutput [[0.9850638]]\n",
            "3 day input [0.71231588 0.6911263  0.71488863 0.71410803 0.72560709 0.72608725\n",
            " 0.73058079 0.7377235  0.73653642 0.73465842 0.72090392 0.7264115\n",
            " 0.74157562 0.74432141 0.7317974  0.73860333 0.75017346 0.75159609\n",
            " 0.75890104 0.76015684 0.77139293 0.7447501  0.75340363 0.75928557\n",
            " 0.75626602 0.7361411  0.73804799 0.73640059 0.73095689 0.75148309\n",
            " 0.75193498 0.74882549 0.75796205 0.76617064 0.75591387 0.75165774\n",
            " 0.72588308 0.71635468 0.71426978 0.67886898 0.70538603 0.72421559\n",
            " 0.72394852 0.72695604 0.74693361 0.7557185  0.77479899 0.78446446\n",
            " 0.79410909 0.80448705 0.80716437 0.80817135 0.81354509 0.77968414\n",
            " 0.78776795 0.80201378 0.80559475 0.81076878 0.80604303 0.81007626\n",
            " 0.79292871 0.80488758 0.78584616 0.780365   0.77605331 0.78061036\n",
            " 0.79660047 0.80787377 0.83086481 0.84842194 0.87078905 0.89238921\n",
            " 0.90242444 0.89491507 0.8976399  0.90573276 0.91382563 0.92104474\n",
            " 0.90262415 0.91158816 0.91777711 0.93193562 0.90986869 0.92357519\n",
            " 0.92008156 0.93614064 0.93495294 0.93541685 0.94960811 0.96064027\n",
            " 0.96640512 0.98212333 0.97756269 0.98198081 0.9868853  0.98719367\n",
            " 1.         0.99815524 0.99024451 0.98506379]\n",
            "3 dayoutput [[0.982233]]\n",
            "4 day input [0.6911263  0.71488863 0.71410803 0.72560709 0.72608725 0.73058079\n",
            " 0.7377235  0.73653642 0.73465842 0.72090392 0.7264115  0.74157562\n",
            " 0.74432141 0.7317974  0.73860333 0.75017346 0.75159609 0.75890104\n",
            " 0.76015684 0.77139293 0.7447501  0.75340363 0.75928557 0.75626602\n",
            " 0.7361411  0.73804799 0.73640059 0.73095689 0.75148309 0.75193498\n",
            " 0.74882549 0.75796205 0.76617064 0.75591387 0.75165774 0.72588308\n",
            " 0.71635468 0.71426978 0.67886898 0.70538603 0.72421559 0.72394852\n",
            " 0.72695604 0.74693361 0.7557185  0.77479899 0.78446446 0.79410909\n",
            " 0.80448705 0.80716437 0.80817135 0.81354509 0.77968414 0.78776795\n",
            " 0.80201378 0.80559475 0.81076878 0.80604303 0.81007626 0.79292871\n",
            " 0.80488758 0.78584616 0.780365   0.77605331 0.78061036 0.79660047\n",
            " 0.80787377 0.83086481 0.84842194 0.87078905 0.89238921 0.90242444\n",
            " 0.89491507 0.8976399  0.90573276 0.91382563 0.92104474 0.90262415\n",
            " 0.91158816 0.91777711 0.93193562 0.90986869 0.92357519 0.92008156\n",
            " 0.93614064 0.93495294 0.93541685 0.94960811 0.96064027 0.96640512\n",
            " 0.98212333 0.97756269 0.98198081 0.9868853  0.98719367 1.\n",
            " 0.99815524 0.99024451 0.98506379 0.98223299]\n",
            "4 dayoutput [[0.98097193]]\n",
            "5 day input [0.71488863 0.71410803 0.72560709 0.72608725 0.73058079 0.7377235\n",
            " 0.73653642 0.73465842 0.72090392 0.7264115  0.74157562 0.74432141\n",
            " 0.7317974  0.73860333 0.75017346 0.75159609 0.75890104 0.76015684\n",
            " 0.77139293 0.7447501  0.75340363 0.75928557 0.75626602 0.7361411\n",
            " 0.73804799 0.73640059 0.73095689 0.75148309 0.75193498 0.74882549\n",
            " 0.75796205 0.76617064 0.75591387 0.75165774 0.72588308 0.71635468\n",
            " 0.71426978 0.67886898 0.70538603 0.72421559 0.72394852 0.72695604\n",
            " 0.74693361 0.7557185  0.77479899 0.78446446 0.79410909 0.80448705\n",
            " 0.80716437 0.80817135 0.81354509 0.77968414 0.78776795 0.80201378\n",
            " 0.80559475 0.81076878 0.80604303 0.81007626 0.79292871 0.80488758\n",
            " 0.78584616 0.780365   0.77605331 0.78061036 0.79660047 0.80787377\n",
            " 0.83086481 0.84842194 0.87078905 0.89238921 0.90242444 0.89491507\n",
            " 0.8976399  0.90573276 0.91382563 0.92104474 0.90262415 0.91158816\n",
            " 0.91777711 0.93193562 0.90986869 0.92357519 0.92008156 0.93614064\n",
            " 0.93495294 0.93541685 0.94960811 0.96064027 0.96640512 0.98212333\n",
            " 0.97756269 0.98198081 0.9868853  0.98719367 1.         0.99815524\n",
            " 0.99024451 0.98506379 0.98223299 0.98097193]\n",
            "5 dayoutput [[0.98067355]]\n",
            "6 day input [0.71410803 0.72560709 0.72608725 0.73058079 0.7377235  0.73653642\n",
            " 0.73465842 0.72090392 0.7264115  0.74157562 0.74432141 0.7317974\n",
            " 0.73860333 0.75017346 0.75159609 0.75890104 0.76015684 0.77139293\n",
            " 0.7447501  0.75340363 0.75928557 0.75626602 0.7361411  0.73804799\n",
            " 0.73640059 0.73095689 0.75148309 0.75193498 0.74882549 0.75796205\n",
            " 0.76617064 0.75591387 0.75165774 0.72588308 0.71635468 0.71426978\n",
            " 0.67886898 0.70538603 0.72421559 0.72394852 0.72695604 0.74693361\n",
            " 0.7557185  0.77479899 0.78446446 0.79410909 0.80448705 0.80716437\n",
            " 0.80817135 0.81354509 0.77968414 0.78776795 0.80201378 0.80559475\n",
            " 0.81076878 0.80604303 0.81007626 0.79292871 0.80488758 0.78584616\n",
            " 0.780365   0.77605331 0.78061036 0.79660047 0.80787377 0.83086481\n",
            " 0.84842194 0.87078905 0.89238921 0.90242444 0.89491507 0.8976399\n",
            " 0.90573276 0.91382563 0.92104474 0.90262415 0.91158816 0.91777711\n",
            " 0.93193562 0.90986869 0.92357519 0.92008156 0.93614064 0.93495294\n",
            " 0.93541685 0.94960811 0.96064027 0.96640512 0.98212333 0.97756269\n",
            " 0.98198081 0.9868853  0.98719367 1.         0.99815524 0.99024451\n",
            " 0.98506379 0.98223299 0.98097193 0.98067355]\n",
            "6 dayoutput [[0.9806802]]\n",
            "7 day input [0.72560709 0.72608725 0.73058079 0.7377235  0.73653642 0.73465842\n",
            " 0.72090392 0.7264115  0.74157562 0.74432141 0.7317974  0.73860333\n",
            " 0.75017346 0.75159609 0.75890104 0.76015684 0.77139293 0.7447501\n",
            " 0.75340363 0.75928557 0.75626602 0.7361411  0.73804799 0.73640059\n",
            " 0.73095689 0.75148309 0.75193498 0.74882549 0.75796205 0.76617064\n",
            " 0.75591387 0.75165774 0.72588308 0.71635468 0.71426978 0.67886898\n",
            " 0.70538603 0.72421559 0.72394852 0.72695604 0.74693361 0.7557185\n",
            " 0.77479899 0.78446446 0.79410909 0.80448705 0.80716437 0.80817135\n",
            " 0.81354509 0.77968414 0.78776795 0.80201378 0.80559475 0.81076878\n",
            " 0.80604303 0.81007626 0.79292871 0.80488758 0.78584616 0.780365\n",
            " 0.77605331 0.78061036 0.79660047 0.80787377 0.83086481 0.84842194\n",
            " 0.87078905 0.89238921 0.90242444 0.89491507 0.8976399  0.90573276\n",
            " 0.91382563 0.92104474 0.90262415 0.91158816 0.91777711 0.93193562\n",
            " 0.90986869 0.92357519 0.92008156 0.93614064 0.93495294 0.93541685\n",
            " 0.94960811 0.96064027 0.96640512 0.98212333 0.97756269 0.98198081\n",
            " 0.9868853  0.98719367 1.         0.99815524 0.99024451 0.98506379\n",
            " 0.98223299 0.98097193 0.98067355 0.98068023]\n",
            "7 dayoutput [[0.9804365]]\n",
            "8 day input [0.72608725 0.73058079 0.7377235  0.73653642 0.73465842 0.72090392\n",
            " 0.7264115  0.74157562 0.74432141 0.7317974  0.73860333 0.75017346\n",
            " 0.75159609 0.75890104 0.76015684 0.77139293 0.7447501  0.75340363\n",
            " 0.75928557 0.75626602 0.7361411  0.73804799 0.73640059 0.73095689\n",
            " 0.75148309 0.75193498 0.74882549 0.75796205 0.76617064 0.75591387\n",
            " 0.75165774 0.72588308 0.71635468 0.71426978 0.67886898 0.70538603\n",
            " 0.72421559 0.72394852 0.72695604 0.74693361 0.7557185  0.77479899\n",
            " 0.78446446 0.79410909 0.80448705 0.80716437 0.80817135 0.81354509\n",
            " 0.77968414 0.78776795 0.80201378 0.80559475 0.81076878 0.80604303\n",
            " 0.81007626 0.79292871 0.80488758 0.78584616 0.780365   0.77605331\n",
            " 0.78061036 0.79660047 0.80787377 0.83086481 0.84842194 0.87078905\n",
            " 0.89238921 0.90242444 0.89491507 0.8976399  0.90573276 0.91382563\n",
            " 0.92104474 0.90262415 0.91158816 0.91777711 0.93193562 0.90986869\n",
            " 0.92357519 0.92008156 0.93614064 0.93495294 0.93541685 0.94960811\n",
            " 0.96064027 0.96640512 0.98212333 0.97756269 0.98198081 0.9868853\n",
            " 0.98719367 1.         0.99815524 0.99024451 0.98506379 0.98223299\n",
            " 0.98097193 0.98067355 0.98068023 0.9804365 ]\n",
            "8 dayoutput [[0.9796215]]\n",
            "9 day input [0.73058079 0.7377235  0.73653642 0.73465842 0.72090392 0.7264115\n",
            " 0.74157562 0.74432141 0.7317974  0.73860333 0.75017346 0.75159609\n",
            " 0.75890104 0.76015684 0.77139293 0.7447501  0.75340363 0.75928557\n",
            " 0.75626602 0.7361411  0.73804799 0.73640059 0.73095689 0.75148309\n",
            " 0.75193498 0.74882549 0.75796205 0.76617064 0.75591387 0.75165774\n",
            " 0.72588308 0.71635468 0.71426978 0.67886898 0.70538603 0.72421559\n",
            " 0.72394852 0.72695604 0.74693361 0.7557185  0.77479899 0.78446446\n",
            " 0.79410909 0.80448705 0.80716437 0.80817135 0.81354509 0.77968414\n",
            " 0.78776795 0.80201378 0.80559475 0.81076878 0.80604303 0.81007626\n",
            " 0.79292871 0.80488758 0.78584616 0.780365   0.77605331 0.78061036\n",
            " 0.79660047 0.80787377 0.83086481 0.84842194 0.87078905 0.89238921\n",
            " 0.90242444 0.89491507 0.8976399  0.90573276 0.91382563 0.92104474\n",
            " 0.90262415 0.91158816 0.91777711 0.93193562 0.90986869 0.92357519\n",
            " 0.92008156 0.93614064 0.93495294 0.93541685 0.94960811 0.96064027\n",
            " 0.96640512 0.98212333 0.97756269 0.98198081 0.9868853  0.98719367\n",
            " 1.         0.99815524 0.99024451 0.98506379 0.98223299 0.98097193\n",
            " 0.98067355 0.98068023 0.9804365  0.97962153]\n",
            "9 dayoutput [[0.9781615]]\n",
            "10 day input [0.7377235  0.73653642 0.73465842 0.72090392 0.7264115  0.74157562\n",
            " 0.74432141 0.7317974  0.73860333 0.75017346 0.75159609 0.75890104\n",
            " 0.76015684 0.77139293 0.7447501  0.75340363 0.75928557 0.75626602\n",
            " 0.7361411  0.73804799 0.73640059 0.73095689 0.75148309 0.75193498\n",
            " 0.74882549 0.75796205 0.76617064 0.75591387 0.75165774 0.72588308\n",
            " 0.71635468 0.71426978 0.67886898 0.70538603 0.72421559 0.72394852\n",
            " 0.72695604 0.74693361 0.7557185  0.77479899 0.78446446 0.79410909\n",
            " 0.80448705 0.80716437 0.80817135 0.81354509 0.77968414 0.78776795\n",
            " 0.80201378 0.80559475 0.81076878 0.80604303 0.81007626 0.79292871\n",
            " 0.80488758 0.78584616 0.780365   0.77605331 0.78061036 0.79660047\n",
            " 0.80787377 0.83086481 0.84842194 0.87078905 0.89238921 0.90242444\n",
            " 0.89491507 0.8976399  0.90573276 0.91382563 0.92104474 0.90262415\n",
            " 0.91158816 0.91777711 0.93193562 0.90986869 0.92357519 0.92008156\n",
            " 0.93614064 0.93495294 0.93541685 0.94960811 0.96064027 0.96640512\n",
            " 0.98212333 0.97756269 0.98198081 0.9868853  0.98719367 1.\n",
            " 0.99815524 0.99024451 0.98506379 0.98223299 0.98097193 0.98067355\n",
            " 0.98068023 0.9804365  0.97962153 0.97816151]\n",
            "10 dayoutput [[0.9761666]]\n",
            "11 day input [0.73653642 0.73465842 0.72090392 0.7264115  0.74157562 0.74432141\n",
            " 0.7317974  0.73860333 0.75017346 0.75159609 0.75890104 0.76015684\n",
            " 0.77139293 0.7447501  0.75340363 0.75928557 0.75626602 0.7361411\n",
            " 0.73804799 0.73640059 0.73095689 0.75148309 0.75193498 0.74882549\n",
            " 0.75796205 0.76617064 0.75591387 0.75165774 0.72588308 0.71635468\n",
            " 0.71426978 0.67886898 0.70538603 0.72421559 0.72394852 0.72695604\n",
            " 0.74693361 0.7557185  0.77479899 0.78446446 0.79410909 0.80448705\n",
            " 0.80716437 0.80817135 0.81354509 0.77968414 0.78776795 0.80201378\n",
            " 0.80559475 0.81076878 0.80604303 0.81007626 0.79292871 0.80488758\n",
            " 0.78584616 0.780365   0.77605331 0.78061036 0.79660047 0.80787377\n",
            " 0.83086481 0.84842194 0.87078905 0.89238921 0.90242444 0.89491507\n",
            " 0.8976399  0.90573276 0.91382563 0.92104474 0.90262415 0.91158816\n",
            " 0.91777711 0.93193562 0.90986869 0.92357519 0.92008156 0.93614064\n",
            " 0.93495294 0.93541685 0.94960811 0.96064027 0.96640512 0.98212333\n",
            " 0.97756269 0.98198081 0.9868853  0.98719367 1.         0.99815524\n",
            " 0.99024451 0.98506379 0.98223299 0.98097193 0.98067355 0.98068023\n",
            " 0.9804365  0.97962153 0.97816151 0.97616661]\n",
            "11 dayoutput [[0.97383446]]\n",
            "12 day input [0.73465842 0.72090392 0.7264115  0.74157562 0.74432141 0.7317974\n",
            " 0.73860333 0.75017346 0.75159609 0.75890104 0.76015684 0.77139293\n",
            " 0.7447501  0.75340363 0.75928557 0.75626602 0.7361411  0.73804799\n",
            " 0.73640059 0.73095689 0.75148309 0.75193498 0.74882549 0.75796205\n",
            " 0.76617064 0.75591387 0.75165774 0.72588308 0.71635468 0.71426978\n",
            " 0.67886898 0.70538603 0.72421559 0.72394852 0.72695604 0.74693361\n",
            " 0.7557185  0.77479899 0.78446446 0.79410909 0.80448705 0.80716437\n",
            " 0.80817135 0.81354509 0.77968414 0.78776795 0.80201378 0.80559475\n",
            " 0.81076878 0.80604303 0.81007626 0.79292871 0.80488758 0.78584616\n",
            " 0.780365   0.77605331 0.78061036 0.79660047 0.80787377 0.83086481\n",
            " 0.84842194 0.87078905 0.89238921 0.90242444 0.89491507 0.8976399\n",
            " 0.90573276 0.91382563 0.92104474 0.90262415 0.91158816 0.91777711\n",
            " 0.93193562 0.90986869 0.92357519 0.92008156 0.93614064 0.93495294\n",
            " 0.93541685 0.94960811 0.96064027 0.96640512 0.98212333 0.97756269\n",
            " 0.98198081 0.9868853  0.98719367 1.         0.99815524 0.99024451\n",
            " 0.98506379 0.98223299 0.98097193 0.98067355 0.98068023 0.9804365\n",
            " 0.97962153 0.97816151 0.97616661 0.97383446]\n",
            "12 dayoutput [[0.9713665]]\n",
            "13 day input [0.72090392 0.7264115  0.74157562 0.74432141 0.7317974  0.73860333\n",
            " 0.75017346 0.75159609 0.75890104 0.76015684 0.77139293 0.7447501\n",
            " 0.75340363 0.75928557 0.75626602 0.7361411  0.73804799 0.73640059\n",
            " 0.73095689 0.75148309 0.75193498 0.74882549 0.75796205 0.76617064\n",
            " 0.75591387 0.75165774 0.72588308 0.71635468 0.71426978 0.67886898\n",
            " 0.70538603 0.72421559 0.72394852 0.72695604 0.74693361 0.7557185\n",
            " 0.77479899 0.78446446 0.79410909 0.80448705 0.80716437 0.80817135\n",
            " 0.81354509 0.77968414 0.78776795 0.80201378 0.80559475 0.81076878\n",
            " 0.80604303 0.81007626 0.79292871 0.80488758 0.78584616 0.780365\n",
            " 0.77605331 0.78061036 0.79660047 0.80787377 0.83086481 0.84842194\n",
            " 0.87078905 0.89238921 0.90242444 0.89491507 0.8976399  0.90573276\n",
            " 0.91382563 0.92104474 0.90262415 0.91158816 0.91777711 0.93193562\n",
            " 0.90986869 0.92357519 0.92008156 0.93614064 0.93495294 0.93541685\n",
            " 0.94960811 0.96064027 0.96640512 0.98212333 0.97756269 0.98198081\n",
            " 0.9868853  0.98719367 1.         0.99815524 0.99024451 0.98506379\n",
            " 0.98223299 0.98097193 0.98067355 0.98068023 0.9804365  0.97962153\n",
            " 0.97816151 0.97616661 0.97383446 0.97136652]\n",
            "13 dayoutput [[0.9689115]]\n",
            "14 day input [0.7264115  0.74157562 0.74432141 0.7317974  0.73860333 0.75017346\n",
            " 0.75159609 0.75890104 0.76015684 0.77139293 0.7447501  0.75340363\n",
            " 0.75928557 0.75626602 0.7361411  0.73804799 0.73640059 0.73095689\n",
            " 0.75148309 0.75193498 0.74882549 0.75796205 0.76617064 0.75591387\n",
            " 0.75165774 0.72588308 0.71635468 0.71426978 0.67886898 0.70538603\n",
            " 0.72421559 0.72394852 0.72695604 0.74693361 0.7557185  0.77479899\n",
            " 0.78446446 0.79410909 0.80448705 0.80716437 0.80817135 0.81354509\n",
            " 0.77968414 0.78776795 0.80201378 0.80559475 0.81076878 0.80604303\n",
            " 0.81007626 0.79292871 0.80488758 0.78584616 0.780365   0.77605331\n",
            " 0.78061036 0.79660047 0.80787377 0.83086481 0.84842194 0.87078905\n",
            " 0.89238921 0.90242444 0.89491507 0.8976399  0.90573276 0.91382563\n",
            " 0.92104474 0.90262415 0.91158816 0.91777711 0.93193562 0.90986869\n",
            " 0.92357519 0.92008156 0.93614064 0.93495294 0.93541685 0.94960811\n",
            " 0.96064027 0.96640512 0.98212333 0.97756269 0.98198081 0.9868853\n",
            " 0.98719367 1.         0.99815524 0.99024451 0.98506379 0.98223299\n",
            " 0.98097193 0.98067355 0.98068023 0.9804365  0.97962153 0.97816151\n",
            " 0.97616661 0.97383446 0.97136652 0.96891153]\n",
            "14 dayoutput [[0.9665464]]\n",
            "15 day input [0.74157562 0.74432141 0.7317974  0.73860333 0.75017346 0.75159609\n",
            " 0.75890104 0.76015684 0.77139293 0.7447501  0.75340363 0.75928557\n",
            " 0.75626602 0.7361411  0.73804799 0.73640059 0.73095689 0.75148309\n",
            " 0.75193498 0.74882549 0.75796205 0.76617064 0.75591387 0.75165774\n",
            " 0.72588308 0.71635468 0.71426978 0.67886898 0.70538603 0.72421559\n",
            " 0.72394852 0.72695604 0.74693361 0.7557185  0.77479899 0.78446446\n",
            " 0.79410909 0.80448705 0.80716437 0.80817135 0.81354509 0.77968414\n",
            " 0.78776795 0.80201378 0.80559475 0.81076878 0.80604303 0.81007626\n",
            " 0.79292871 0.80488758 0.78584616 0.780365   0.77605331 0.78061036\n",
            " 0.79660047 0.80787377 0.83086481 0.84842194 0.87078905 0.89238921\n",
            " 0.90242444 0.89491507 0.8976399  0.90573276 0.91382563 0.92104474\n",
            " 0.90262415 0.91158816 0.91777711 0.93193562 0.90986869 0.92357519\n",
            " 0.92008156 0.93614064 0.93495294 0.93541685 0.94960811 0.96064027\n",
            " 0.96640512 0.98212333 0.97756269 0.98198081 0.9868853  0.98719367\n",
            " 1.         0.99815524 0.99024451 0.98506379 0.98223299 0.98097193\n",
            " 0.98067355 0.98068023 0.9804365  0.97962153 0.97816151 0.97616661\n",
            " 0.97383446 0.97136652 0.96891153 0.96654642]\n",
            "15 dayoutput [[0.96428174]]\n",
            "16 day input [0.74432141 0.7317974  0.73860333 0.75017346 0.75159609 0.75890104\n",
            " 0.76015684 0.77139293 0.7447501  0.75340363 0.75928557 0.75626602\n",
            " 0.7361411  0.73804799 0.73640059 0.73095689 0.75148309 0.75193498\n",
            " 0.74882549 0.75796205 0.76617064 0.75591387 0.75165774 0.72588308\n",
            " 0.71635468 0.71426978 0.67886898 0.70538603 0.72421559 0.72394852\n",
            " 0.72695604 0.74693361 0.7557185  0.77479899 0.78446446 0.79410909\n",
            " 0.80448705 0.80716437 0.80817135 0.81354509 0.77968414 0.78776795\n",
            " 0.80201378 0.80559475 0.81076878 0.80604303 0.81007626 0.79292871\n",
            " 0.80488758 0.78584616 0.780365   0.77605331 0.78061036 0.79660047\n",
            " 0.80787377 0.83086481 0.84842194 0.87078905 0.89238921 0.90242444\n",
            " 0.89491507 0.8976399  0.90573276 0.91382563 0.92104474 0.90262415\n",
            " 0.91158816 0.91777711 0.93193562 0.90986869 0.92357519 0.92008156\n",
            " 0.93614064 0.93495294 0.93541685 0.94960811 0.96064027 0.96640512\n",
            " 0.98212333 0.97756269 0.98198081 0.9868853  0.98719367 1.\n",
            " 0.99815524 0.99024451 0.98506379 0.98223299 0.98097193 0.98067355\n",
            " 0.98068023 0.9804365  0.97962153 0.97816151 0.97616661 0.97383446\n",
            " 0.97136652 0.96891153 0.96654642 0.96428174]\n",
            "16 dayoutput [[0.9620874]]\n",
            "17 day input [0.7317974  0.73860333 0.75017346 0.75159609 0.75890104 0.76015684\n",
            " 0.77139293 0.7447501  0.75340363 0.75928557 0.75626602 0.7361411\n",
            " 0.73804799 0.73640059 0.73095689 0.75148309 0.75193498 0.74882549\n",
            " 0.75796205 0.76617064 0.75591387 0.75165774 0.72588308 0.71635468\n",
            " 0.71426978 0.67886898 0.70538603 0.72421559 0.72394852 0.72695604\n",
            " 0.74693361 0.7557185  0.77479899 0.78446446 0.79410909 0.80448705\n",
            " 0.80716437 0.80817135 0.81354509 0.77968414 0.78776795 0.80201378\n",
            " 0.80559475 0.81076878 0.80604303 0.81007626 0.79292871 0.80488758\n",
            " 0.78584616 0.780365   0.77605331 0.78061036 0.79660047 0.80787377\n",
            " 0.83086481 0.84842194 0.87078905 0.89238921 0.90242444 0.89491507\n",
            " 0.8976399  0.90573276 0.91382563 0.92104474 0.90262415 0.91158816\n",
            " 0.91777711 0.93193562 0.90986869 0.92357519 0.92008156 0.93614064\n",
            " 0.93495294 0.93541685 0.94960811 0.96064027 0.96640512 0.98212333\n",
            " 0.97756269 0.98198081 0.9868853  0.98719367 1.         0.99815524\n",
            " 0.99024451 0.98506379 0.98223299 0.98097193 0.98067355 0.98068023\n",
            " 0.9804365  0.97962153 0.97816151 0.97616661 0.97383446 0.97136652\n",
            " 0.96891153 0.96654642 0.96428174 0.96208739]\n",
            "17 dayoutput [[0.95991653]]\n",
            "18 day input [0.73860333 0.75017346 0.75159609 0.75890104 0.76015684 0.77139293\n",
            " 0.7447501  0.75340363 0.75928557 0.75626602 0.7361411  0.73804799\n",
            " 0.73640059 0.73095689 0.75148309 0.75193498 0.74882549 0.75796205\n",
            " 0.76617064 0.75591387 0.75165774 0.72588308 0.71635468 0.71426978\n",
            " 0.67886898 0.70538603 0.72421559 0.72394852 0.72695604 0.74693361\n",
            " 0.7557185  0.77479899 0.78446446 0.79410909 0.80448705 0.80716437\n",
            " 0.80817135 0.81354509 0.77968414 0.78776795 0.80201378 0.80559475\n",
            " 0.81076878 0.80604303 0.81007626 0.79292871 0.80488758 0.78584616\n",
            " 0.780365   0.77605331 0.78061036 0.79660047 0.80787377 0.83086481\n",
            " 0.84842194 0.87078905 0.89238921 0.90242444 0.89491507 0.8976399\n",
            " 0.90573276 0.91382563 0.92104474 0.90262415 0.91158816 0.91777711\n",
            " 0.93193562 0.90986869 0.92357519 0.92008156 0.93614064 0.93495294\n",
            " 0.93541685 0.94960811 0.96064027 0.96640512 0.98212333 0.97756269\n",
            " 0.98198081 0.9868853  0.98719367 1.         0.99815524 0.99024451\n",
            " 0.98506379 0.98223299 0.98097193 0.98067355 0.98068023 0.9804365\n",
            " 0.97962153 0.97816151 0.97616661 0.97383446 0.97136652 0.96891153\n",
            " 0.96654642 0.96428174 0.96208739 0.95991653]\n",
            "18 dayoutput [[0.95772684]]\n",
            "19 day input [0.75017346 0.75159609 0.75890104 0.76015684 0.77139293 0.7447501\n",
            " 0.75340363 0.75928557 0.75626602 0.7361411  0.73804799 0.73640059\n",
            " 0.73095689 0.75148309 0.75193498 0.74882549 0.75796205 0.76617064\n",
            " 0.75591387 0.75165774 0.72588308 0.71635468 0.71426978 0.67886898\n",
            " 0.70538603 0.72421559 0.72394852 0.72695604 0.74693361 0.7557185\n",
            " 0.77479899 0.78446446 0.79410909 0.80448705 0.80716437 0.80817135\n",
            " 0.81354509 0.77968414 0.78776795 0.80201378 0.80559475 0.81076878\n",
            " 0.80604303 0.81007626 0.79292871 0.80488758 0.78584616 0.780365\n",
            " 0.77605331 0.78061036 0.79660047 0.80787377 0.83086481 0.84842194\n",
            " 0.87078905 0.89238921 0.90242444 0.89491507 0.8976399  0.90573276\n",
            " 0.91382563 0.92104474 0.90262415 0.91158816 0.91777711 0.93193562\n",
            " 0.90986869 0.92357519 0.92008156 0.93614064 0.93495294 0.93541685\n",
            " 0.94960811 0.96064027 0.96640512 0.98212333 0.97756269 0.98198081\n",
            " 0.9868853  0.98719367 1.         0.99815524 0.99024451 0.98506379\n",
            " 0.98223299 0.98097193 0.98067355 0.98068023 0.9804365  0.97962153\n",
            " 0.97816151 0.97616661 0.97383446 0.97136652 0.96891153 0.96654642\n",
            " 0.96428174 0.96208739 0.95991653 0.95772684]\n",
            "19 dayoutput [[0.95549226]]\n",
            "20 day input [0.75159609 0.75890104 0.76015684 0.77139293 0.7447501  0.75340363\n",
            " 0.75928557 0.75626602 0.7361411  0.73804799 0.73640059 0.73095689\n",
            " 0.75148309 0.75193498 0.74882549 0.75796205 0.76617064 0.75591387\n",
            " 0.75165774 0.72588308 0.71635468 0.71426978 0.67886898 0.70538603\n",
            " 0.72421559 0.72394852 0.72695604 0.74693361 0.7557185  0.77479899\n",
            " 0.78446446 0.79410909 0.80448705 0.80716437 0.80817135 0.81354509\n",
            " 0.77968414 0.78776795 0.80201378 0.80559475 0.81076878 0.80604303\n",
            " 0.81007626 0.79292871 0.80488758 0.78584616 0.780365   0.77605331\n",
            " 0.78061036 0.79660047 0.80787377 0.83086481 0.84842194 0.87078905\n",
            " 0.89238921 0.90242444 0.89491507 0.8976399  0.90573276 0.91382563\n",
            " 0.92104474 0.90262415 0.91158816 0.91777711 0.93193562 0.90986869\n",
            " 0.92357519 0.92008156 0.93614064 0.93495294 0.93541685 0.94960811\n",
            " 0.96064027 0.96640512 0.98212333 0.97756269 0.98198081 0.9868853\n",
            " 0.98719367 1.         0.99815524 0.99024451 0.98506379 0.98223299\n",
            " 0.98097193 0.98067355 0.98068023 0.9804365  0.97962153 0.97816151\n",
            " 0.97616661 0.97383446 0.97136652 0.96891153 0.96654642 0.96428174\n",
            " 0.96208739 0.95991653 0.95772684 0.95549226]\n",
            "20 dayoutput [[0.9532049]]\n",
            "21 day input [0.75890104 0.76015684 0.77139293 0.7447501  0.75340363 0.75928557\n",
            " 0.75626602 0.7361411  0.73804799 0.73640059 0.73095689 0.75148309\n",
            " 0.75193498 0.74882549 0.75796205 0.76617064 0.75591387 0.75165774\n",
            " 0.72588308 0.71635468 0.71426978 0.67886898 0.70538603 0.72421559\n",
            " 0.72394852 0.72695604 0.74693361 0.7557185  0.77479899 0.78446446\n",
            " 0.79410909 0.80448705 0.80716437 0.80817135 0.81354509 0.77968414\n",
            " 0.78776795 0.80201378 0.80559475 0.81076878 0.80604303 0.81007626\n",
            " 0.79292871 0.80488758 0.78584616 0.780365   0.77605331 0.78061036\n",
            " 0.79660047 0.80787377 0.83086481 0.84842194 0.87078905 0.89238921\n",
            " 0.90242444 0.89491507 0.8976399  0.90573276 0.91382563 0.92104474\n",
            " 0.90262415 0.91158816 0.91777711 0.93193562 0.90986869 0.92357519\n",
            " 0.92008156 0.93614064 0.93495294 0.93541685 0.94960811 0.96064027\n",
            " 0.96640512 0.98212333 0.97756269 0.98198081 0.9868853  0.98719367\n",
            " 1.         0.99815524 0.99024451 0.98506379 0.98223299 0.98097193\n",
            " 0.98067355 0.98068023 0.9804365  0.97962153 0.97816151 0.97616661\n",
            " 0.97383446 0.97136652 0.96891153 0.96654642 0.96428174 0.96208739\n",
            " 0.95991653 0.95772684 0.95549226 0.95320487]\n",
            "21 dayoutput [[0.95087254]]\n",
            "22 day input [0.76015684 0.77139293 0.7447501  0.75340363 0.75928557 0.75626602\n",
            " 0.7361411  0.73804799 0.73640059 0.73095689 0.75148309 0.75193498\n",
            " 0.74882549 0.75796205 0.76617064 0.75591387 0.75165774 0.72588308\n",
            " 0.71635468 0.71426978 0.67886898 0.70538603 0.72421559 0.72394852\n",
            " 0.72695604 0.74693361 0.7557185  0.77479899 0.78446446 0.79410909\n",
            " 0.80448705 0.80716437 0.80817135 0.81354509 0.77968414 0.78776795\n",
            " 0.80201378 0.80559475 0.81076878 0.80604303 0.81007626 0.79292871\n",
            " 0.80488758 0.78584616 0.780365   0.77605331 0.78061036 0.79660047\n",
            " 0.80787377 0.83086481 0.84842194 0.87078905 0.89238921 0.90242444\n",
            " 0.89491507 0.8976399  0.90573276 0.91382563 0.92104474 0.90262415\n",
            " 0.91158816 0.91777711 0.93193562 0.90986869 0.92357519 0.92008156\n",
            " 0.93614064 0.93495294 0.93541685 0.94960811 0.96064027 0.96640512\n",
            " 0.98212333 0.97756269 0.98198081 0.9868853  0.98719367 1.\n",
            " 0.99815524 0.99024451 0.98506379 0.98223299 0.98097193 0.98067355\n",
            " 0.98068023 0.9804365  0.97962153 0.97816151 0.97616661 0.97383446\n",
            " 0.97136652 0.96891153 0.96654642 0.96428174 0.96208739 0.95991653\n",
            " 0.95772684 0.95549226 0.95320487 0.95087254]\n",
            "22 dayoutput [[0.9485115]]\n",
            "23 day input [0.77139293 0.7447501  0.75340363 0.75928557 0.75626602 0.7361411\n",
            " 0.73804799 0.73640059 0.73095689 0.75148309 0.75193498 0.74882549\n",
            " 0.75796205 0.76617064 0.75591387 0.75165774 0.72588308 0.71635468\n",
            " 0.71426978 0.67886898 0.70538603 0.72421559 0.72394852 0.72695604\n",
            " 0.74693361 0.7557185  0.77479899 0.78446446 0.79410909 0.80448705\n",
            " 0.80716437 0.80817135 0.81354509 0.77968414 0.78776795 0.80201378\n",
            " 0.80559475 0.81076878 0.80604303 0.81007626 0.79292871 0.80488758\n",
            " 0.78584616 0.780365   0.77605331 0.78061036 0.79660047 0.80787377\n",
            " 0.83086481 0.84842194 0.87078905 0.89238921 0.90242444 0.89491507\n",
            " 0.8976399  0.90573276 0.91382563 0.92104474 0.90262415 0.91158816\n",
            " 0.91777711 0.93193562 0.90986869 0.92357519 0.92008156 0.93614064\n",
            " 0.93495294 0.93541685 0.94960811 0.96064027 0.96640512 0.98212333\n",
            " 0.97756269 0.98198081 0.9868853  0.98719367 1.         0.99815524\n",
            " 0.99024451 0.98506379 0.98223299 0.98097193 0.98067355 0.98068023\n",
            " 0.9804365  0.97962153 0.97816151 0.97616661 0.97383446 0.97136652\n",
            " 0.96891153 0.96654642 0.96428174 0.96208739 0.95991653 0.95772684\n",
            " 0.95549226 0.95320487 0.95087254 0.94851148]\n",
            "23 dayoutput [[0.94613916]]\n",
            "24 day input [0.7447501  0.75340363 0.75928557 0.75626602 0.7361411  0.73804799\n",
            " 0.73640059 0.73095689 0.75148309 0.75193498 0.74882549 0.75796205\n",
            " 0.76617064 0.75591387 0.75165774 0.72588308 0.71635468 0.71426978\n",
            " 0.67886898 0.70538603 0.72421559 0.72394852 0.72695604 0.74693361\n",
            " 0.7557185  0.77479899 0.78446446 0.79410909 0.80448705 0.80716437\n",
            " 0.80817135 0.81354509 0.77968414 0.78776795 0.80201378 0.80559475\n",
            " 0.81076878 0.80604303 0.81007626 0.79292871 0.80488758 0.78584616\n",
            " 0.780365   0.77605331 0.78061036 0.79660047 0.80787377 0.83086481\n",
            " 0.84842194 0.87078905 0.89238921 0.90242444 0.89491507 0.8976399\n",
            " 0.90573276 0.91382563 0.92104474 0.90262415 0.91158816 0.91777711\n",
            " 0.93193562 0.90986869 0.92357519 0.92008156 0.93614064 0.93495294\n",
            " 0.93541685 0.94960811 0.96064027 0.96640512 0.98212333 0.97756269\n",
            " 0.98198081 0.9868853  0.98719367 1.         0.99815524 0.99024451\n",
            " 0.98506379 0.98223299 0.98097193 0.98067355 0.98068023 0.9804365\n",
            " 0.97962153 0.97816151 0.97616661 0.97383446 0.97136652 0.96891153\n",
            " 0.96654642 0.96428174 0.96208739 0.95991653 0.95772684 0.95549226\n",
            " 0.95320487 0.95087254 0.94851148 0.94613916]\n",
            "24 dayoutput [[0.9437694]]\n",
            "25 day input [0.75340363 0.75928557 0.75626602 0.7361411  0.73804799 0.73640059\n",
            " 0.73095689 0.75148309 0.75193498 0.74882549 0.75796205 0.76617064\n",
            " 0.75591387 0.75165774 0.72588308 0.71635468 0.71426978 0.67886898\n",
            " 0.70538603 0.72421559 0.72394852 0.72695604 0.74693361 0.7557185\n",
            " 0.77479899 0.78446446 0.79410909 0.80448705 0.80716437 0.80817135\n",
            " 0.81354509 0.77968414 0.78776795 0.80201378 0.80559475 0.81076878\n",
            " 0.80604303 0.81007626 0.79292871 0.80488758 0.78584616 0.780365\n",
            " 0.77605331 0.78061036 0.79660047 0.80787377 0.83086481 0.84842194\n",
            " 0.87078905 0.89238921 0.90242444 0.89491507 0.8976399  0.90573276\n",
            " 0.91382563 0.92104474 0.90262415 0.91158816 0.91777711 0.93193562\n",
            " 0.90986869 0.92357519 0.92008156 0.93614064 0.93495294 0.93541685\n",
            " 0.94960811 0.96064027 0.96640512 0.98212333 0.97756269 0.98198081\n",
            " 0.9868853  0.98719367 1.         0.99815524 0.99024451 0.98506379\n",
            " 0.98223299 0.98097193 0.98067355 0.98068023 0.9804365  0.97962153\n",
            " 0.97816151 0.97616661 0.97383446 0.97136652 0.96891153 0.96654642\n",
            " 0.96428174 0.96208739 0.95991653 0.95772684 0.95549226 0.95320487\n",
            " 0.95087254 0.94851148 0.94613916 0.9437694 ]\n",
            "25 dayoutput [[0.94141114]]\n",
            "26 day input [0.75928557 0.75626602 0.7361411  0.73804799 0.73640059 0.73095689\n",
            " 0.75148309 0.75193498 0.74882549 0.75796205 0.76617064 0.75591387\n",
            " 0.75165774 0.72588308 0.71635468 0.71426978 0.67886898 0.70538603\n",
            " 0.72421559 0.72394852 0.72695604 0.74693361 0.7557185  0.77479899\n",
            " 0.78446446 0.79410909 0.80448705 0.80716437 0.80817135 0.81354509\n",
            " 0.77968414 0.78776795 0.80201378 0.80559475 0.81076878 0.80604303\n",
            " 0.81007626 0.79292871 0.80488758 0.78584616 0.780365   0.77605331\n",
            " 0.78061036 0.79660047 0.80787377 0.83086481 0.84842194 0.87078905\n",
            " 0.89238921 0.90242444 0.89491507 0.8976399  0.90573276 0.91382563\n",
            " 0.92104474 0.90262415 0.91158816 0.91777711 0.93193562 0.90986869\n",
            " 0.92357519 0.92008156 0.93614064 0.93495294 0.93541685 0.94960811\n",
            " 0.96064027 0.96640512 0.98212333 0.97756269 0.98198081 0.9868853\n",
            " 0.98719367 1.         0.99815524 0.99024451 0.98506379 0.98223299\n",
            " 0.98097193 0.98067355 0.98068023 0.9804365  0.97962153 0.97816151\n",
            " 0.97616661 0.97383446 0.97136652 0.96891153 0.96654642 0.96428174\n",
            " 0.96208739 0.95991653 0.95772684 0.95549226 0.95320487 0.95087254\n",
            " 0.94851148 0.94613916 0.9437694  0.94141114]\n",
            "26 dayoutput [[0.939067]]\n",
            "27 day input [0.75626602 0.7361411  0.73804799 0.73640059 0.73095689 0.75148309\n",
            " 0.75193498 0.74882549 0.75796205 0.76617064 0.75591387 0.75165774\n",
            " 0.72588308 0.71635468 0.71426978 0.67886898 0.70538603 0.72421559\n",
            " 0.72394852 0.72695604 0.74693361 0.7557185  0.77479899 0.78446446\n",
            " 0.79410909 0.80448705 0.80716437 0.80817135 0.81354509 0.77968414\n",
            " 0.78776795 0.80201378 0.80559475 0.81076878 0.80604303 0.81007626\n",
            " 0.79292871 0.80488758 0.78584616 0.780365   0.77605331 0.78061036\n",
            " 0.79660047 0.80787377 0.83086481 0.84842194 0.87078905 0.89238921\n",
            " 0.90242444 0.89491507 0.8976399  0.90573276 0.91382563 0.92104474\n",
            " 0.90262415 0.91158816 0.91777711 0.93193562 0.90986869 0.92357519\n",
            " 0.92008156 0.93614064 0.93495294 0.93541685 0.94960811 0.96064027\n",
            " 0.96640512 0.98212333 0.97756269 0.98198081 0.9868853  0.98719367\n",
            " 1.         0.99815524 0.99024451 0.98506379 0.98223299 0.98097193\n",
            " 0.98067355 0.98068023 0.9804365  0.97962153 0.97816151 0.97616661\n",
            " 0.97383446 0.97136652 0.96891153 0.96654642 0.96428174 0.96208739\n",
            " 0.95991653 0.95772684 0.95549226 0.95320487 0.95087254 0.94851148\n",
            " 0.94613916 0.9437694  0.94141114 0.93906701]\n",
            "27 dayoutput [[0.93673646]]\n",
            "28 day input [0.7361411  0.73804799 0.73640059 0.73095689 0.75148309 0.75193498\n",
            " 0.74882549 0.75796205 0.76617064 0.75591387 0.75165774 0.72588308\n",
            " 0.71635468 0.71426978 0.67886898 0.70538603 0.72421559 0.72394852\n",
            " 0.72695604 0.74693361 0.7557185  0.77479899 0.78446446 0.79410909\n",
            " 0.80448705 0.80716437 0.80817135 0.81354509 0.77968414 0.78776795\n",
            " 0.80201378 0.80559475 0.81076878 0.80604303 0.81007626 0.79292871\n",
            " 0.80488758 0.78584616 0.780365   0.77605331 0.78061036 0.79660047\n",
            " 0.80787377 0.83086481 0.84842194 0.87078905 0.89238921 0.90242444\n",
            " 0.89491507 0.8976399  0.90573276 0.91382563 0.92104474 0.90262415\n",
            " 0.91158816 0.91777711 0.93193562 0.90986869 0.92357519 0.92008156\n",
            " 0.93614064 0.93495294 0.93541685 0.94960811 0.96064027 0.96640512\n",
            " 0.98212333 0.97756269 0.98198081 0.9868853  0.98719367 1.\n",
            " 0.99815524 0.99024451 0.98506379 0.98223299 0.98097193 0.98067355\n",
            " 0.98068023 0.9804365  0.97962153 0.97816151 0.97616661 0.97383446\n",
            " 0.97136652 0.96891153 0.96654642 0.96428174 0.96208739 0.95991653\n",
            " 0.95772684 0.95549226 0.95320487 0.95087254 0.94851148 0.94613916\n",
            " 0.9437694  0.94141114 0.93906701 0.93673646]\n",
            "28 dayoutput [[0.93441653]]\n",
            "29 day input [0.73804799 0.73640059 0.73095689 0.75148309 0.75193498 0.74882549\n",
            " 0.75796205 0.76617064 0.75591387 0.75165774 0.72588308 0.71635468\n",
            " 0.71426978 0.67886898 0.70538603 0.72421559 0.72394852 0.72695604\n",
            " 0.74693361 0.7557185  0.77479899 0.78446446 0.79410909 0.80448705\n",
            " 0.80716437 0.80817135 0.81354509 0.77968414 0.78776795 0.80201378\n",
            " 0.80559475 0.81076878 0.80604303 0.81007626 0.79292871 0.80488758\n",
            " 0.78584616 0.780365   0.77605331 0.78061036 0.79660047 0.80787377\n",
            " 0.83086481 0.84842194 0.87078905 0.89238921 0.90242444 0.89491507\n",
            " 0.8976399  0.90573276 0.91382563 0.92104474 0.90262415 0.91158816\n",
            " 0.91777711 0.93193562 0.90986869 0.92357519 0.92008156 0.93614064\n",
            " 0.93495294 0.93541685 0.94960811 0.96064027 0.96640512 0.98212333\n",
            " 0.97756269 0.98198081 0.9868853  0.98719367 1.         0.99815524\n",
            " 0.99024451 0.98506379 0.98223299 0.98097193 0.98067355 0.98068023\n",
            " 0.9804365  0.97962153 0.97816151 0.97616661 0.97383446 0.97136652\n",
            " 0.96891153 0.96654642 0.96428174 0.96208739 0.95991653 0.95772684\n",
            " 0.95549226 0.95320487 0.95087254 0.94851148 0.94613916 0.9437694\n",
            " 0.94141114 0.93906701 0.93673646 0.93441653]\n",
            "29 dayoutput [[0.9321042]]\n",
            "[[0.9981552362442017], [0.9902445077896118], [0.9850637912750244], [0.9822329878807068], [0.9809719324111938], [0.9806735515594482], [0.9806802272796631], [0.9804365038871765], [0.9796215295791626], [0.9781615138053894], [0.9761666059494019], [0.9738344550132751], [0.9713665246963501], [0.9689115285873413], [0.9665464162826538], [0.9642817378044128], [0.9620873928070068], [0.9599165320396423], [0.9577268362045288], [0.9554922580718994], [0.953204870223999], [0.950872540473938], [0.9485114812850952], [0.9461391568183899], [0.9437693953514099], [0.9414111375808716], [0.939067006111145], [0.9367364645004272], [0.9344165325164795], [0.9321041703224182]]\n"
          ],
          "name": "stdout"
        }
      ]
    },
    {
      "cell_type": "code",
      "metadata": {
        "id": "2PNw5KlEiua5"
      },
      "source": [
        "day_new = np.arange(1, 101)\r\n",
        "day_pred = np.arange(101, 131)"
      ],
      "execution_count": null,
      "outputs": []
    },
    {
      "cell_type": "code",
      "metadata": {
        "colab": {
          "base_uri": "https://localhost:8080/"
        },
        "id": "u0D6jVcIoWBc",
        "outputId": "106b5cfb-8e6b-42f8-eb6c-740d4d79043b"
      },
      "source": [
        "len(df1)"
      ],
      "execution_count": null,
      "outputs": [
        {
          "output_type": "execute_result",
          "data": {
            "text/plain": [
              "2469"
            ]
          },
          "metadata": {
            "tags": []
          },
          "execution_count": 35
        }
      ]
    },
    {
      "cell_type": "code",
      "metadata": {
        "id": "mVYDdh_qoYOt"
      },
      "source": [
        "df3 = df1.tolist()\r\n",
        "df3.extend(lst_output)"
      ],
      "execution_count": null,
      "outputs": []
    },
    {
      "cell_type": "code",
      "metadata": {
        "colab": {
          "base_uri": "https://localhost:8080/",
          "height": 283
        },
        "id": "_C-3y8Uoodb_",
        "outputId": "d86771ee-fb95-4d88-eb63-4280a6cbaf1f"
      },
      "source": [
        "plt.plot(day_new, scaler.inverse_transform(df1[2369:]))\r\n",
        "plt.plot(day_pred, scaler.inverse_transform(lst_output))"
      ],
      "execution_count": null,
      "outputs": [
        {
          "output_type": "execute_result",
          "data": {
            "text/plain": [
              "[<matplotlib.lines.Line2D at 0x7f99dc63db70>]"
            ]
          },
          "metadata": {
            "tags": []
          },
          "execution_count": 37
        },
        {
          "output_type": "display_data",
          "data": {
            "image/png": "[encoded data removed]",
            "text/plain": [
              "<Figure size 432x288 with 1 Axes>"
            ]
          },
          "metadata": {
            "tags": [],
            "needs_background": "light"
          }
        }
      ]
    },
    {
      "cell_type": "code",
      "metadata": {
        "colab": {
          "base_uri": "https://localhost:8080/"
        },
        "id": "ujVkbX1jo4DD",
        "outputId": "9c16f0f3-cccb-45fe-b663-8068aed1ed68"
      },
      "source": [
        "scaler.inverse_transform(lst_output)"
      ],
      "execution_count": null,
      "outputs": [
        {
          "output_type": "execute_result",
          "data": {
            "text/plain": [
              "array([[46608.36677997],\n",
              "       [46359.24701733],\n",
              "       [46196.09910044],\n",
              "       [46106.95319261],\n",
              "       [46067.24081453],\n",
              "       [46057.84438949],\n",
              "       [46058.05461714],\n",
              "       [46050.37943096],\n",
              "       [46024.71476463],\n",
              "       [45978.73685184],\n",
              "       [45915.91444877],\n",
              "       [45842.47179541],\n",
              "       [45764.75326187],\n",
              "       [45687.44204439],\n",
              "       [45612.96139203],\n",
              "       [45541.64353954],\n",
              "       [45472.54058549],\n",
              "       [45404.17718227],\n",
              "       [45335.22063676],\n",
              "       [45264.85068572],\n",
              "       [45192.81768383],\n",
              "       [45119.36939938],\n",
              "       [45045.01638523],\n",
              "       [44970.30861193],\n",
              "       [44895.68155102],\n",
              "       [44821.41675741],\n",
              "       [44747.59682051],\n",
              "       [44674.20484703],\n",
              "       [44601.14698536],\n",
              "       [44528.32750682]])"
            ]
          },
          "metadata": {
            "tags": []
          },
          "execution_count": 38
        }
      ]
    },
    {
      "cell_type": "code",
      "metadata": {
        "id": "BhSoK8lopSHH"
      },
      "source": [
        ""
      ],
      "execution_count": null,
      "outputs": []
    }
  ]
}