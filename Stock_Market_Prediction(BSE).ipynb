{
  "nbformat": 4,
  "nbformat_minor": 0,
  "metadata": {
    "accelerator": "GPU",
    "colab": {
      "name": "Stock_Market_Prediction(BSE).ipynb",
      "provenance": [],
      "collapsed_sections": []
    },
    "kernelspec": {
      "display_name": "Python 3",
      "name": "python3"
    }
  },
  "cells": [
    {
      "cell_type": "code",
      "metadata": {
        "id": "VP_MritPPdfA"
      },
      "source": [
        "import pandas as pd\r\n",
        "import numpy as np\r\n",
        "import matplotlib.pyplot as plt\r\n",
        "\r\n",
        "from sklearn.preprocessing import MinMaxScaler\r\n",
        "\r\n",
        "import tensorflow as tf\r\n",
        "\r\n",
        "import math\r\n",
        "\r\n",
        "from sklearn.metrics import mean_squared_error\r\n",
        "\r\n",
        "import requests"
      ],
      "execution_count": 21,
      "outputs": []
    },
    {
      "cell_type": "code",
      "metadata": {
        "id": "O6csbyN2yGS_"
      },
      "source": [
        "csv_url = 'https://query1.finance.yahoo.com/v7/finance/download/^BSESN?period1=1292716800&period2=1608336000&interval=1d&events=history&includeAdjustedClose=true'\r\n",
        "req = requests.get(csv_url)\r\n",
        "url_content = req.content\r\n",
        "csv_file = open('BSE.csv','wb')\r\n",
        "\r\n",
        "csv_file.write(url_content)\r\n",
        "csv_file.close()"
      ],
      "execution_count": 22,
      "outputs": []
    },
    {
      "cell_type": "code",
      "metadata": {
        "id": "D1dJlf73QIZ3"
      },
      "source": [
        "df = pd.read_csv('/content/BSE.csv')\r\n",
        "df.Close = df.Close.interpolate()"
      ],
      "execution_count": 23,
      "outputs": []
    },
    {
      "cell_type": "code",
      "metadata": {
        "colab": {
          "base_uri": "https://localhost:8080/"
        },
        "id": "jYyBJdItOeaW",
        "outputId": "77fdc8e1-fade-495e-931a-322ace443d2f"
      },
      "source": [
        "df.Close.isnull().sum()"
      ],
      "execution_count": 24,
      "outputs": [
        {
          "output_type": "execute_result",
          "data": {
            "text/plain": [
              "0"
            ]
          },
          "metadata": {
            "tags": []
          },
          "execution_count": 24
        }
      ]
    },
    {
      "cell_type": "code",
      "metadata": {
        "id": "RTribBdgV_P3",
        "colab": {
          "base_uri": "https://localhost:8080/",
          "height": 206
        },
        "outputId": "f1bbaf2a-cfc9-4fb5-b100-9c9be2bbb321"
      },
      "source": [
        "df.head()"
      ],
      "execution_count": 25,
      "outputs": [
        {
          "output_type": "execute_result",
          "data": {
            "text/html": [
              "<div>\n",
              "<style scoped>\n",
              "    .dataframe tbody tr th:only-of-type {\n",
              "        vertical-align: middle;\n",
              "    }\n",
              "\n",
              "    .dataframe tbody tr th {\n",
              "        vertical-align: top;\n",
              "    }\n",
              "\n",
              "    .dataframe thead th {\n",
              "        text-align: right;\n",
              "    }\n",
              "</style>\n",
              "<table border=\"1\" class=\"dataframe\">\n",
              "  <thead>\n",
              "    <tr style=\"text-align: right;\">\n",
              "      <th></th>\n",
              "      <th>Date</th>\n",
              "      <th>Open</th>\n",
              "      <th>High</th>\n",
              "      <th>Low</th>\n",
              "      <th>Close</th>\n",
              "      <th>Adj Close</th>\n",
              "      <th>Volume</th>\n",
              "    </tr>\n",
              "  </thead>\n",
              "  <tbody>\n",
              "    <tr>\n",
              "      <th>0</th>\n",
              "      <td>2010-12-20</td>\n",
              "      <td>19770.019531</td>\n",
              "      <td>20006.160156</td>\n",
              "      <td>19711.119141</td>\n",
              "      <td>19888.880859</td>\n",
              "      <td>19888.880859</td>\n",
              "      <td>11200.0</td>\n",
              "    </tr>\n",
              "    <tr>\n",
              "      <th>1</th>\n",
              "      <td>2010-12-21</td>\n",
              "      <td>19925.759766</td>\n",
              "      <td>20090.839844</td>\n",
              "      <td>19925.759766</td>\n",
              "      <td>20060.320313</td>\n",
              "      <td>20060.320313</td>\n",
              "      <td>14200.0</td>\n",
              "    </tr>\n",
              "    <tr>\n",
              "      <th>2</th>\n",
              "      <td>2010-12-22</td>\n",
              "      <td>20118.820313</td>\n",
              "      <td>20151.250000</td>\n",
              "      <td>19931.310547</td>\n",
              "      <td>20015.800781</td>\n",
              "      <td>20015.800781</td>\n",
              "      <td>12000.0</td>\n",
              "    </tr>\n",
              "    <tr>\n",
              "      <th>3</th>\n",
              "      <td>2010-12-23</td>\n",
              "      <td>20038.830078</td>\n",
              "      <td>20076.080078</td>\n",
              "      <td>19939.300781</td>\n",
              "      <td>19982.880859</td>\n",
              "      <td>19982.880859</td>\n",
              "      <td>7600.0</td>\n",
              "    </tr>\n",
              "    <tr>\n",
              "      <th>4</th>\n",
              "      <td>2010-12-24</td>\n",
              "      <td>19911.460938</td>\n",
              "      <td>20086.419922</td>\n",
              "      <td>19880.359375</td>\n",
              "      <td>20073.660156</td>\n",
              "      <td>20073.660156</td>\n",
              "      <td>16400.0</td>\n",
              "    </tr>\n",
              "  </tbody>\n",
              "</table>\n",
              "</div>"
            ],
            "text/plain": [
              "         Date          Open          High  ...         Close     Adj Close   Volume\n",
              "0  2010-12-20  19770.019531  20006.160156  ...  19888.880859  19888.880859  11200.0\n",
              "1  2010-12-21  19925.759766  20090.839844  ...  20060.320313  20060.320313  14200.0\n",
              "2  2010-12-22  20118.820313  20151.250000  ...  20015.800781  20015.800781  12000.0\n",
              "3  2010-12-23  20038.830078  20076.080078  ...  19982.880859  19982.880859   7600.0\n",
              "4  2010-12-24  19911.460938  20086.419922  ...  20073.660156  20073.660156  16400.0\n",
              "\n",
              "[5 rows x 7 columns]"
            ]
          },
          "metadata": {
            "tags": []
          },
          "execution_count": 25
        }
      ]
    },
    {
      "cell_type": "code",
      "metadata": {
        "colab": {
          "base_uri": "https://localhost:8080/"
        },
        "id": "032iK8LzvDHM",
        "outputId": "24ce875d-851b-4a02-b6b5-b2fd1f6455d8"
      },
      "source": [
        "df.reset_index()['Close']"
      ],
      "execution_count": 26,
      "outputs": [
        {
          "output_type": "execute_result",
          "data": {
            "text/plain": [
              "0       19888.880859\n",
              "1       20060.320313\n",
              "2       20015.800781\n",
              "3       19982.880859\n",
              "4       20073.660156\n",
              "            ...     \n",
              "2466    46253.460938\n",
              "2467    46263.171875\n",
              "2468    46666.460938\n",
              "2469    46890.339844\n",
              "2470    46960.691406\n",
              "Name: Close, Length: 2471, dtype: float64"
            ]
          },
          "metadata": {
            "tags": []
          },
          "execution_count": 26
        }
      ]
    },
    {
      "cell_type": "code",
      "metadata": {
        "id": "RGdY9oqBVbZZ",
        "colab": {
          "base_uri": "https://localhost:8080/"
        },
        "outputId": "18415719-96df-4b52-d025-4bf2254b0bed"
      },
      "source": [
        "df1 = df.reset_index()['Close']\r\n",
        "df1.head()\r\n",
        "type(df1)"
      ],
      "execution_count": 27,
      "outputs": [
        {
          "output_type": "execute_result",
          "data": {
            "text/plain": [
              "pandas.core.series.Series"
            ]
          },
          "metadata": {
            "tags": []
          },
          "execution_count": 27
        }
      ]
    },
    {
      "cell_type": "code",
      "metadata": {
        "id": "AGZu_ZiBWB8u",
        "colab": {
          "base_uri": "https://localhost:8080/"
        },
        "outputId": "f028abf5-0e42-4985-d18b-a82542dc83e7"
      },
      "source": [
        "df1.shape"
      ],
      "execution_count": 28,
      "outputs": [
        {
          "output_type": "execute_result",
          "data": {
            "text/plain": [
              "(2471,)"
            ]
          },
          "metadata": {
            "tags": []
          },
          "execution_count": 28
        }
      ]
    },
    {
      "cell_type": "code",
      "metadata": {
        "id": "4IuQjhayWj8O",
        "colab": {
          "base_uri": "https://localhost:8080/",
          "height": 283
        },
        "outputId": "0dbfcfd8-b54e-445c-faa5-feb0d1f0a31d"
      },
      "source": [
        "plt.plot(df1)"
      ],
      "execution_count": 29,
      "outputs": [
        {
          "output_type": "execute_result",
          "data": {
            "text/plain": [
              "[<matplotlib.lines.Line2D at 0x7f4dc9adda58>]"
            ]
          },
          "metadata": {
            "tags": []
          },
          "execution_count": 29
        },
        {
          "output_type": "display_data",
          "data": {
            "image/png": "[encoded data removed]",
            "text/plain": [
              "<Figure size 432x288 with 1 Axes>"
            ]
          },
          "metadata": {
            "tags": [],
            "needs_background": "light"
          }
        }
      ]
    },
    {
      "cell_type": "code",
      "metadata": {
        "id": "eE8agJZGWrwv"
      },
      "source": [
        "scaler = MinMaxScaler(feature_range=(0,1))\r\n",
        "df1 = scaler.fit_transform(np.array(df1).reshape(-1,1))"
      ],
      "execution_count": 30,
      "outputs": []
    },
    {
      "cell_type": "code",
      "metadata": {
        "id": "sTEvFtEbXUe7"
      },
      "source": [
        "training_size = int(len(df1)*0.65)\r\n",
        "test_size = int(len(df1)) - training_size\r\n",
        "train_data = df1[0:training_size,:]\r\n",
        "test_data = df1[training_size:len(df1),:]"
      ],
      "execution_count": 31,
      "outputs": []
    },
    {
      "cell_type": "code",
      "metadata": {
        "id": "Lt6_HhMmajDT",
        "colab": {
          "base_uri": "https://localhost:8080/"
        },
        "outputId": "6df0d6ee-7ab7-49a0-9b4e-9712c8ff4ceb"
      },
      "source": [
        "train_data.shape"
      ],
      "execution_count": 32,
      "outputs": [
        {
          "output_type": "execute_result",
          "data": {
            "text/plain": [
              "(1606, 1)"
            ]
          },
          "metadata": {
            "tags": []
          },
          "execution_count": 32
        }
      ]
    },
    {
      "cell_type": "code",
      "metadata": {
        "id": "sfpjzDocakbQ",
        "colab": {
          "base_uri": "https://localhost:8080/"
        },
        "outputId": "428f12e5-f560-4605-9479-c694f41de26e"
      },
      "source": [
        "test_data.shape"
      ],
      "execution_count": 33,
      "outputs": [
        {
          "output_type": "execute_result",
          "data": {
            "text/plain": [
              "(865, 1)"
            ]
          },
          "metadata": {
            "tags": []
          },
          "execution_count": 33
        }
      ]
    },
    {
      "cell_type": "code",
      "metadata": {
        "id": "Snh5xdtKalQi"
      },
      "source": [
        "def create_dataset(dataset, time_step=1):\r\n",
        "  dataX, dataY = [], []\r\n",
        "  for i in range(len(dataset)-time_step-1):\r\n",
        "    a = dataset[i:(i+time_step), 0]\r\n",
        "    dataX.append(a)\r\n",
        "    dataY.append(dataset[i+time_step, 0])\r\n",
        "  return np.array(dataX), np.array(dataY)"
      ],
      "execution_count": 34,
      "outputs": []
    },
    {
      "cell_type": "code",
      "metadata": {
        "id": "cBZFnsLWdeDh"
      },
      "source": [
        "time_step = 100\r\n",
        "X_train, y_train = create_dataset(train_data, time_step)\r\n",
        "X_test, y_test = create_dataset(test_data, time_step)"
      ],
      "execution_count": 35,
      "outputs": []
    },
    {
      "cell_type": "code",
      "metadata": {
        "id": "yxg0MdrHd6bj",
        "colab": {
          "base_uri": "https://localhost:8080/"
        },
        "outputId": "f031927f-65de-408d-eb77-215a7ec0e692"
      },
      "source": [
        "X_train"
      ],
      "execution_count": 36,
      "outputs": [
        {
          "output_type": "execute_result",
          "data": {
            "text/plain": [
              "array([[0.14829983, 0.15369345, 0.15229283, ..., 0.1072775 , 0.09943836,\n",
              "        0.10558863],\n",
              "       [0.15369345, 0.15229283, 0.15125714, ..., 0.09943836, 0.10558863,\n",
              "        0.09972906],\n",
              "       [0.15229283, 0.15125714, 0.15411313, ..., 0.10558863, 0.09972906,\n",
              "        0.0931953 ],\n",
              "       ...,\n",
              "       [0.37943521, 0.38012673, 0.38172994, ..., 0.50610889, 0.50087503,\n",
              "        0.50112014],\n",
              "       [0.38012673, 0.38172994, 0.37310655, ..., 0.50087503, 0.50112014,\n",
              "        0.50276932],\n",
              "       [0.38172994, 0.37310655, 0.37571276, ..., 0.50112014, 0.50276932,\n",
              "        0.5002468 ]])"
            ]
          },
          "metadata": {
            "tags": []
          },
          "execution_count": 36
        }
      ]
    },
    {
      "cell_type": "code",
      "metadata": {
        "colab": {
          "base_uri": "https://localhost:8080/"
        },
        "id": "_wSt5u2pygdr",
        "outputId": "2e43240d-13cc-439c-d535-f68df2fda348"
      },
      "source": [
        "X_test"
      ],
      "execution_count": 37,
      "outputs": [
        {
          "output_type": "execute_result",
          "data": {
            "text/plain": [
              "array([[0.50722476, 0.50678782, 0.50701118, ..., 0.56868026, 0.57068207,\n",
              "        0.56184159],\n",
              "       [0.50678782, 0.50701118, 0.50221249, ..., 0.57068207, 0.56184159,\n",
              "        0.55895703],\n",
              "       [0.50701118, 0.50221249, 0.49655077, ..., 0.56184159, 0.55895703,\n",
              "        0.55324905],\n",
              "       ...,\n",
              "       [0.72214494, 0.71603626, 0.73359826, ..., 0.96851366, 0.97289089,\n",
              "        0.97774998],\n",
              "       [0.71603626, 0.73359826, 0.72032746, ..., 0.97289089, 0.97774998,\n",
              "        0.97805549],\n",
              "       [0.73359826, 0.72032746, 0.70978626, ..., 0.97774998, 0.97805549,\n",
              "        0.99074328]])"
            ]
          },
          "metadata": {
            "tags": []
          },
          "execution_count": 37
        }
      ]
    },
    {
      "cell_type": "code",
      "metadata": {
        "id": "Ht0eNl17fnnB"
      },
      "source": [
        "X_train = X_train.reshape(X_train.shape[0], X_train.shape[1], 1)\r\n",
        "X_test = X_test.reshape(X_test.shape[0], X_test.shape[1], 1)"
      ],
      "execution_count": 38,
      "outputs": []
    },
    {
      "cell_type": "code",
      "metadata": {
        "id": "55AcIFFwgcJC"
      },
      "source": [
        "from tensorflow.keras.models import Sequential\r\n",
        "from tensorflow.keras.layers import Dense\r\n",
        "from tensorflow.keras.layers import LSTM"
      ],
      "execution_count": 39,
      "outputs": []
    },
    {
      "cell_type": "code",
      "metadata": {
        "id": "Z_zUcc6mgzKP"
      },
      "source": [
        "model = Sequential()\r\n",
        "model.add(LSTM(50, return_sequences=True, input_shape=(100,1)))\r\n",
        "model.add(LSTM(50, return_sequences=True))\r\n",
        "model.add(LSTM(50))\r\n",
        "model.add(Dense(1))\r\n",
        "model.compile(loss='mean_squared_error', optimizer='adam')"
      ],
      "execution_count": 40,
      "outputs": []
    },
    {
      "cell_type": "code",
      "metadata": {
        "colab": {
          "base_uri": "https://localhost:8080/"
        },
        "id": "3kzMnZiohQD5",
        "outputId": "a6bb2098-6ed1-43fc-9c6d-fca02460d790"
      },
      "source": [
        "model.summary()"
      ],
      "execution_count": 41,
      "outputs": [
        {
          "output_type": "stream",
          "text": [
            "Model: \"sequential\"\n",
            "_________________________________________________________________\n",
            "Layer (type)                 Output Shape              Param #   \n",
            "=================================================================\n",
            "lstm (LSTM)                  (None, 100, 50)           10400     \n",
            "_________________________________________________________________\n",
            "lstm_1 (LSTM)                (None, 100, 50)           20200     \n",
            "_________________________________________________________________\n",
            "lstm_2 (LSTM)                (None, 50)                20200     \n",
            "_________________________________________________________________\n",
            "dense (Dense)                (None, 1)                 51        \n",
            "=================================================================\n",
            "Total params: 50,851\n",
            "Trainable params: 50,851\n",
            "Non-trainable params: 0\n",
            "_________________________________________________________________\n"
          ],
          "name": "stdout"
        }
      ]
    },
    {
      "cell_type": "code",
      "metadata": {
        "id": "ytjDI-rphbLL",
        "colab": {
          "base_uri": "https://localhost:8080/"
        },
        "outputId": "87129fd9-ae26-4835-964a-3dc5cdfb1d61"
      },
      "source": [
        "model.fit(X_train, y_train,\r\n",
        "          validation_data=(X_test, y_test),\r\n",
        "          epochs=100, batch_size=64, verbose=1\r\n",
        "          )"
      ],
      "execution_count": 42,
      "outputs": [
        {
          "output_type": "stream",
          "text": [
            "Epoch 1/100\n",
            "24/24 [==============================] - 11s 59ms/step - loss: 0.0269 - val_loss: 0.0024\n",
            "Epoch 2/100\n",
            "24/24 [==============================] - 0s 18ms/step - loss: 0.0014 - val_loss: 0.0025\n",
            "Epoch 3/100\n",
            "24/24 [==============================] - 0s 18ms/step - loss: 4.8949e-04 - val_loss: 0.0022\n",
            "Epoch 4/100\n",
            "24/24 [==============================] - 0s 18ms/step - loss: 3.9877e-04 - val_loss: 0.0021\n",
            "Epoch 5/100\n",
            "24/24 [==============================] - 1s 22ms/step - loss: 4.0391e-04 - val_loss: 0.0024\n",
            "Epoch 6/100\n",
            "24/24 [==============================] - 0s 18ms/step - loss: 3.7927e-04 - val_loss: 0.0021\n",
            "Epoch 7/100\n",
            "24/24 [==============================] - 0s 18ms/step - loss: 3.5145e-04 - val_loss: 0.0023\n",
            "Epoch 8/100\n",
            "24/24 [==============================] - 0s 18ms/step - loss: 3.4617e-04 - val_loss: 0.0021\n",
            "Epoch 9/100\n",
            "24/24 [==============================] - 0s 18ms/step - loss: 3.5424e-04 - val_loss: 0.0021\n",
            "Epoch 10/100\n",
            "24/24 [==============================] - 0s 18ms/step - loss: 3.7489e-04 - val_loss: 0.0029\n",
            "Epoch 11/100\n",
            "24/24 [==============================] - 0s 18ms/step - loss: 3.6362e-04 - val_loss: 0.0019\n",
            "Epoch 12/100\n",
            "24/24 [==============================] - 0s 18ms/step - loss: 3.6690e-04 - val_loss: 0.0019\n",
            "Epoch 13/100\n",
            "24/24 [==============================] - 0s 18ms/step - loss: 3.3285e-04 - val_loss: 0.0018\n",
            "Epoch 14/100\n",
            "24/24 [==============================] - 0s 18ms/step - loss: 3.2309e-04 - val_loss: 0.0021\n",
            "Epoch 15/100\n",
            "24/24 [==============================] - 0s 18ms/step - loss: 3.0877e-04 - val_loss: 0.0020\n",
            "Epoch 16/100\n",
            "24/24 [==============================] - 0s 18ms/step - loss: 3.3144e-04 - val_loss: 0.0023\n",
            "Epoch 17/100\n",
            "24/24 [==============================] - 0s 18ms/step - loss: 3.0596e-04 - val_loss: 0.0015\n",
            "Epoch 18/100\n",
            "24/24 [==============================] - 0s 18ms/step - loss: 3.0508e-04 - val_loss: 0.0015\n",
            "Epoch 19/100\n",
            "24/24 [==============================] - 0s 17ms/step - loss: 2.8926e-04 - val_loss: 0.0013\n",
            "Epoch 20/100\n",
            "24/24 [==============================] - 0s 18ms/step - loss: 3.1152e-04 - val_loss: 0.0016\n",
            "Epoch 21/100\n",
            "24/24 [==============================] - 0s 18ms/step - loss: 2.8336e-04 - val_loss: 0.0014\n",
            "Epoch 22/100\n",
            "24/24 [==============================] - 0s 18ms/step - loss: 2.6700e-04 - val_loss: 0.0022\n",
            "Epoch 23/100\n",
            "24/24 [==============================] - 0s 18ms/step - loss: 3.0587e-04 - val_loss: 0.0022\n",
            "Epoch 24/100\n",
            "24/24 [==============================] - 0s 18ms/step - loss: 2.7576e-04 - val_loss: 0.0016\n",
            "Epoch 25/100\n",
            "24/24 [==============================] - 0s 17ms/step - loss: 2.6373e-04 - val_loss: 0.0012\n",
            "Epoch 26/100\n",
            "24/24 [==============================] - 0s 18ms/step - loss: 2.5750e-04 - val_loss: 0.0013\n",
            "Epoch 27/100\n",
            "24/24 [==============================] - 0s 17ms/step - loss: 2.4573e-04 - val_loss: 0.0014\n",
            "Epoch 28/100\n",
            "24/24 [==============================] - 0s 18ms/step - loss: 2.5126e-04 - val_loss: 0.0013\n",
            "Epoch 29/100\n",
            "24/24 [==============================] - 0s 18ms/step - loss: 2.2216e-04 - val_loss: 0.0026\n",
            "Epoch 30/100\n",
            "24/24 [==============================] - 0s 18ms/step - loss: 2.5713e-04 - val_loss: 0.0015\n",
            "Epoch 31/100\n",
            "24/24 [==============================] - 0s 18ms/step - loss: 2.1478e-04 - val_loss: 0.0018\n",
            "Epoch 32/100\n",
            "24/24 [==============================] - 0s 19ms/step - loss: 2.1843e-04 - val_loss: 0.0025\n",
            "Epoch 33/100\n",
            "24/24 [==============================] - 0s 18ms/step - loss: 2.1913e-04 - val_loss: 0.0016\n",
            "Epoch 34/100\n",
            "24/24 [==============================] - 0s 19ms/step - loss: 1.9746e-04 - val_loss: 0.0014\n",
            "Epoch 35/100\n",
            "24/24 [==============================] - 0s 18ms/step - loss: 2.0451e-04 - val_loss: 7.1768e-04\n",
            "Epoch 36/100\n",
            "24/24 [==============================] - 0s 18ms/step - loss: 2.2441e-04 - val_loss: 0.0015\n",
            "Epoch 37/100\n",
            "24/24 [==============================] - 0s 18ms/step - loss: 1.8820e-04 - val_loss: 6.6812e-04\n",
            "Epoch 38/100\n",
            "24/24 [==============================] - 0s 19ms/step - loss: 2.2464e-04 - val_loss: 0.0014\n",
            "Epoch 39/100\n",
            "24/24 [==============================] - 0s 18ms/step - loss: 2.0135e-04 - val_loss: 6.3212e-04\n",
            "Epoch 40/100\n",
            "24/24 [==============================] - 0s 19ms/step - loss: 1.7269e-04 - val_loss: 0.0012\n",
            "Epoch 41/100\n",
            "24/24 [==============================] - 0s 18ms/step - loss: 1.6839e-04 - val_loss: 7.5653e-04\n",
            "Epoch 42/100\n",
            "24/24 [==============================] - 0s 18ms/step - loss: 1.6813e-04 - val_loss: 6.5931e-04\n",
            "Epoch 43/100\n",
            "24/24 [==============================] - 0s 19ms/step - loss: 1.8079e-04 - val_loss: 5.8225e-04\n",
            "Epoch 44/100\n",
            "24/24 [==============================] - 0s 17ms/step - loss: 1.8181e-04 - val_loss: 6.4885e-04\n",
            "Epoch 45/100\n",
            "24/24 [==============================] - 0s 18ms/step - loss: 1.5952e-04 - val_loss: 8.2891e-04\n",
            "Epoch 46/100\n",
            "24/24 [==============================] - 0s 18ms/step - loss: 1.7006e-04 - val_loss: 7.0061e-04\n",
            "Epoch 47/100\n",
            "24/24 [==============================] - 0s 18ms/step - loss: 1.3987e-04 - val_loss: 4.5516e-04\n",
            "Epoch 48/100\n",
            "24/24 [==============================] - 0s 18ms/step - loss: 1.4938e-04 - val_loss: 7.0625e-04\n",
            "Epoch 49/100\n",
            "24/24 [==============================] - 0s 18ms/step - loss: 1.4849e-04 - val_loss: 4.9007e-04\n",
            "Epoch 50/100\n",
            "24/24 [==============================] - 0s 18ms/step - loss: 1.3007e-04 - val_loss: 5.4589e-04\n",
            "Epoch 51/100\n",
            "24/24 [==============================] - 0s 18ms/step - loss: 1.4067e-04 - val_loss: 4.0728e-04\n",
            "Epoch 52/100\n",
            "24/24 [==============================] - 0s 18ms/step - loss: 1.4602e-04 - val_loss: 3.9873e-04\n",
            "Epoch 53/100\n",
            "24/24 [==============================] - 0s 18ms/step - loss: 1.5481e-04 - val_loss: 5.3197e-04\n",
            "Epoch 54/100\n",
            "24/24 [==============================] - 0s 18ms/step - loss: 1.3401e-04 - val_loss: 7.1249e-04\n",
            "Epoch 55/100\n",
            "24/24 [==============================] - 0s 18ms/step - loss: 1.2581e-04 - val_loss: 4.9424e-04\n",
            "Epoch 56/100\n",
            "24/24 [==============================] - 0s 18ms/step - loss: 1.2967e-04 - val_loss: 4.3401e-04\n",
            "Epoch 57/100\n",
            "24/24 [==============================] - 0s 18ms/step - loss: 1.1740e-04 - val_loss: 6.7154e-04\n",
            "Epoch 58/100\n",
            "24/24 [==============================] - 0s 18ms/step - loss: 1.3509e-04 - val_loss: 0.0012\n",
            "Epoch 59/100\n",
            "24/24 [==============================] - 0s 18ms/step - loss: 1.4792e-04 - val_loss: 3.3877e-04\n",
            "Epoch 60/100\n",
            "24/24 [==============================] - 0s 18ms/step - loss: 1.2069e-04 - val_loss: 3.1226e-04\n",
            "Epoch 61/100\n",
            "24/24 [==============================] - 0s 18ms/step - loss: 1.2038e-04 - val_loss: 3.1376e-04\n",
            "Epoch 62/100\n",
            "24/24 [==============================] - 0s 18ms/step - loss: 9.8686e-05 - val_loss: 5.3773e-04\n",
            "Epoch 63/100\n",
            "24/24 [==============================] - 0s 18ms/step - loss: 1.2685e-04 - val_loss: 3.5712e-04\n",
            "Epoch 64/100\n",
            "24/24 [==============================] - 0s 18ms/step - loss: 1.0131e-04 - val_loss: 2.8306e-04\n",
            "Epoch 65/100\n",
            "24/24 [==============================] - 0s 18ms/step - loss: 1.0894e-04 - val_loss: 3.3417e-04\n",
            "Epoch 66/100\n",
            "24/24 [==============================] - 0s 18ms/step - loss: 9.5793e-05 - val_loss: 0.0012\n",
            "Epoch 67/100\n",
            "24/24 [==============================] - 0s 19ms/step - loss: 1.1489e-04 - val_loss: 3.2288e-04\n",
            "Epoch 68/100\n",
            "24/24 [==============================] - 0s 18ms/step - loss: 9.4548e-05 - val_loss: 3.5658e-04\n",
            "Epoch 69/100\n",
            "24/24 [==============================] - 0s 18ms/step - loss: 9.3114e-05 - val_loss: 2.8467e-04\n",
            "Epoch 70/100\n",
            "24/24 [==============================] - 0s 18ms/step - loss: 9.6448e-05 - val_loss: 2.7903e-04\n",
            "Epoch 71/100\n",
            "24/24 [==============================] - 1s 23ms/step - loss: 9.2483e-05 - val_loss: 2.4837e-04\n",
            "Epoch 72/100\n",
            "24/24 [==============================] - 0s 18ms/step - loss: 8.4202e-05 - val_loss: 3.1229e-04\n",
            "Epoch 73/100\n",
            "24/24 [==============================] - 0s 18ms/step - loss: 8.7399e-05 - val_loss: 2.4848e-04\n",
            "Epoch 74/100\n",
            "24/24 [==============================] - 0s 18ms/step - loss: 7.7019e-05 - val_loss: 2.3638e-04\n",
            "Epoch 75/100\n",
            "24/24 [==============================] - 0s 18ms/step - loss: 9.2127e-05 - val_loss: 2.3447e-04\n",
            "Epoch 76/100\n",
            "24/24 [==============================] - 0s 18ms/step - loss: 9.5157e-05 - val_loss: 2.3461e-04\n",
            "Epoch 77/100\n",
            "24/24 [==============================] - 0s 18ms/step - loss: 8.2813e-05 - val_loss: 2.2993e-04\n",
            "Epoch 78/100\n",
            "24/24 [==============================] - 0s 17ms/step - loss: 8.0980e-05 - val_loss: 4.3334e-04\n",
            "Epoch 79/100\n",
            "24/24 [==============================] - 0s 18ms/step - loss: 1.0998e-04 - val_loss: 3.1034e-04\n",
            "Epoch 80/100\n",
            "24/24 [==============================] - 0s 18ms/step - loss: 8.0540e-05 - val_loss: 2.8733e-04\n",
            "Epoch 81/100\n",
            "24/24 [==============================] - 0s 18ms/step - loss: 9.1249e-05 - val_loss: 2.2089e-04\n",
            "Epoch 82/100\n",
            "24/24 [==============================] - 0s 19ms/step - loss: 9.2717e-05 - val_loss: 2.2781e-04\n",
            "Epoch 83/100\n",
            "24/24 [==============================] - 0s 18ms/step - loss: 7.4781e-05 - val_loss: 2.8994e-04\n",
            "Epoch 84/100\n",
            "24/24 [==============================] - 0s 19ms/step - loss: 8.0178e-05 - val_loss: 4.0882e-04\n",
            "Epoch 85/100\n",
            "24/24 [==============================] - 0s 19ms/step - loss: 7.2501e-05 - val_loss: 2.2973e-04\n",
            "Epoch 86/100\n",
            "24/24 [==============================] - 0s 18ms/step - loss: 7.6315e-05 - val_loss: 2.3505e-04\n",
            "Epoch 87/100\n",
            "24/24 [==============================] - 0s 18ms/step - loss: 7.0045e-05 - val_loss: 2.0960e-04\n",
            "Epoch 88/100\n",
            "24/24 [==============================] - 0s 18ms/step - loss: 7.4319e-05 - val_loss: 2.2944e-04\n",
            "Epoch 89/100\n",
            "24/24 [==============================] - 0s 18ms/step - loss: 6.9813e-05 - val_loss: 2.6650e-04\n",
            "Epoch 90/100\n",
            "24/24 [==============================] - 0s 18ms/step - loss: 8.3529e-05 - val_loss: 2.0924e-04\n",
            "Epoch 91/100\n",
            "24/24 [==============================] - 0s 18ms/step - loss: 7.9029e-05 - val_loss: 3.1421e-04\n",
            "Epoch 92/100\n",
            "24/24 [==============================] - 0s 18ms/step - loss: 8.0432e-05 - val_loss: 5.4674e-04\n",
            "Epoch 93/100\n",
            "24/24 [==============================] - 0s 18ms/step - loss: 9.8427e-05 - val_loss: 2.0985e-04\n",
            "Epoch 94/100\n",
            "24/24 [==============================] - 0s 19ms/step - loss: 9.4994e-05 - val_loss: 4.5905e-04\n",
            "Epoch 95/100\n",
            "24/24 [==============================] - 0s 18ms/step - loss: 8.1643e-05 - val_loss: 2.4398e-04\n",
            "Epoch 96/100\n",
            "24/24 [==============================] - 0s 18ms/step - loss: 6.7595e-05 - val_loss: 2.4839e-04\n",
            "Epoch 97/100\n",
            "24/24 [==============================] - 0s 18ms/step - loss: 7.6865e-05 - val_loss: 3.3467e-04\n",
            "Epoch 98/100\n",
            "24/24 [==============================] - 0s 19ms/step - loss: 6.7382e-05 - val_loss: 2.4857e-04\n",
            "Epoch 99/100\n",
            "24/24 [==============================] - 0s 18ms/step - loss: 8.7542e-05 - val_loss: 3.2956e-04\n",
            "Epoch 100/100\n",
            "24/24 [==============================] - 0s 19ms/step - loss: 6.8973e-05 - val_loss: 2.0751e-04\n"
          ],
          "name": "stdout"
        },
        {
          "output_type": "execute_result",
          "data": {
            "text/plain": [
              "<tensorflow.python.keras.callbacks.History at 0x7f4dc0253198>"
            ]
          },
          "metadata": {
            "tags": []
          },
          "execution_count": 42
        }
      ]
    },
    {
      "cell_type": "code",
      "metadata": {
        "id": "MJOEBBrNh-gI"
      },
      "source": [
        "train_predict = model.predict(X_train)\r\n",
        "test_predict = model.predict(X_test)"
      ],
      "execution_count": 43,
      "outputs": []
    },
    {
      "cell_type": "code",
      "metadata": {
        "id": "VEq8zgXXLuu6"
      },
      "source": [
        "train_predict = scaler.inverse_transform(train_predict)\r\n",
        "test_predict = scaler.inverse_transform(test_predict)"
      ],
      "execution_count": 44,
      "outputs": []
    },
    {
      "cell_type": "code",
      "metadata": {
        "colab": {
          "base_uri": "https://localhost:8080/"
        },
        "id": "Tlwb-9a4MJVd",
        "outputId": "ed94bc58-7bdb-4b31-e8d2-6721dbb06242"
      },
      "source": [
        "math.sqrt(mean_squared_error(y_train, train_predict))"
      ],
      "execution_count": 45,
      "outputs": [
        {
          "output_type": "execute_result",
          "data": {
            "text/plain": [
              "23380.977159989146"
            ]
          },
          "metadata": {
            "tags": []
          },
          "execution_count": 45
        }
      ]
    },
    {
      "cell_type": "code",
      "metadata": {
        "colab": {
          "base_uri": "https://localhost:8080/"
        },
        "id": "l2ZmsAjFMnaY",
        "outputId": "d81e3d2e-2eda-43f8-dc06-1ed3065588a1"
      },
      "source": [
        "math.sqrt(mean_squared_error(y_test, test_predict))"
      ],
      "execution_count": 46,
      "outputs": [
        {
          "output_type": "execute_result",
          "data": {
            "text/plain": [
              "37003.83838226492"
            ]
          },
          "metadata": {
            "tags": []
          },
          "execution_count": 46
        }
      ]
    },
    {
      "cell_type": "code",
      "metadata": {
        "id": "Kvo5B89Lafbi"
      },
      "source": [
        "a = np.empty_like(df1)\r\n",
        "a[:,:] = np.nan\r\n",
        "a[100:len(train_predict)+100,:] = train_predict\r\n"
      ],
      "execution_count": 47,
      "outputs": []
    },
    {
      "cell_type": "code",
      "metadata": {
        "colab": {
          "base_uri": "https://localhost:8080/",
          "height": 265
        },
        "id": "K-SDhcJ8YFVH",
        "outputId": "8c6ca137-a577-4622-f37a-f993d79db620"
      },
      "source": [
        "look_back = 100\r\n",
        "trainPredictPlot = np.empty_like(df1)\r\n",
        "trainPredictPlot[:, :] = np.nan\r\n",
        "trainPredictPlot[look_back:len(train_predict)+look_back, :] = train_predict\r\n",
        "\r\n",
        "testPredictPlot = np.empty_like(df1)\r\n",
        "testPredictPlot[:,:] = np.nan\r\n",
        "testPredictPlot[len(train_predict)+(look_back*2)+1:len(df1)-1,:] = test_predict\r\n",
        "\r\n",
        "plt.plot(scaler.inverse_transform(df1))\r\n",
        "plt.plot(trainPredictPlot)\r\n",
        "plt.plot(testPredictPlot)\r\n",
        "plt.show()"
      ],
      "execution_count": 48,
      "outputs": [
        {
          "output_type": "display_data",
          "data": {
            "image/png": "[encoded data removed]",
            "text/plain": [
              "<Figure size 432x288 with 1 Axes>"
            ]
          },
          "metadata": {
            "tags": [],
            "needs_background": "light"
          }
        }
      ]
    },
    {
      "cell_type": "code",
      "metadata": {
        "colab": {
          "base_uri": "https://localhost:8080/"
        },
        "id": "5x6gsc91gg70",
        "outputId": "796cffc5-45e3-40ea-e072-a28330ebf01c"
      },
      "source": [
        "len(test_data)"
      ],
      "execution_count": 49,
      "outputs": [
        {
          "output_type": "execute_result",
          "data": {
            "text/plain": [
              "865"
            ]
          },
          "metadata": {
            "tags": []
          },
          "execution_count": 49
        }
      ]
    },
    {
      "cell_type": "code",
      "metadata": {
        "colab": {
          "base_uri": "https://localhost:8080/"
        },
        "id": "lw2Jc2k2hghV",
        "outputId": "41337cb1-ff87-41b4-e6cb-aaea022bf049"
      },
      "source": [
        "x_input = test_data[765:].reshape(1,-1)\r\n",
        "x_input.shape"
      ],
      "execution_count": 50,
      "outputs": [
        {
          "output_type": "execute_result",
          "data": {
            "text/plain": [
              "(1, 100)"
            ]
          },
          "metadata": {
            "tags": []
          },
          "execution_count": 50
        }
      ]
    },
    {
      "cell_type": "code",
      "metadata": {
        "id": "DG0p_oanhpNb"
      },
      "source": [
        "temp_input = list(x_input)\r\n",
        "temp_input = temp_input[0].tolist()"
      ],
      "execution_count": 51,
      "outputs": []
    },
    {
      "cell_type": "code",
      "metadata": {
        "colab": {
          "base_uri": "https://localhost:8080/"
        },
        "id": "gSbp7ogAhsmo",
        "outputId": "dbe2292f-df1d-4696-8882-2f62e0294f05"
      },
      "source": [
        "lst_output = []\r\n",
        "n_steps = 100\r\n",
        "i = 0\r\n",
        "while(i<30):\r\n",
        "  if(len(temp_input)>100):\r\n",
        "    x_input = np.array(temp_input[1:])\r\n",
        "    print('{} day input {}'.format(i, x_input))\r\n",
        "    x_input = x_input.reshape(1,-1)\r\n",
        "    x_input = x_input.reshape((1,n_steps,1))\r\n",
        "    yhat = model.predict(x_input, verbose=0)\r\n",
        "    print('{} dayoutput {}'.format(i, yhat))\r\n",
        "    temp_input.extend(yhat[0].tolist())\r\n",
        "    temp_input = temp_input[1:]\r\n",
        "\r\n",
        "    lst_output.extend(yhat.tolist())\r\n",
        "    i += 1\r\n",
        "\r\n",
        "  else:\r\n",
        "    x_input = x_input.reshape((1, n_steps, 1))\r\n",
        "    yhat = model.predict(x_input, verbose=0)\r\n",
        "    print(yhat[0])\r\n",
        "    temp_input.extend(yhat[0].tolist())\r\n",
        "    print(len(temp_input))\r\n",
        "    lst_output.extend(yhat.tolist())\r\n",
        "    i += 1\r\n",
        "  \r\n",
        "print(lst_output)"
      ],
      "execution_count": 52,
      "outputs": [
        {
          "output_type": "stream",
          "text": [
            "[0.9933785]\n",
            "101\n",
            "1 day input [0.70572217 0.68472874 0.70827111 0.70749774 0.71889035 0.71936607\n",
            " 0.72381801 0.7308946  0.72971851 0.7278579  0.71423071 0.71968731\n",
            " 0.73471106 0.73743144 0.72502335 0.73176628 0.74322931 0.74463878\n",
            " 0.75187611 0.75312029 0.76425236 0.73785616 0.74642959 0.75225708\n",
            " 0.74926548 0.72932684 0.73121609 0.72958394 0.72419063 0.74452682\n",
            " 0.74497453 0.74189383 0.7509458  0.75907842 0.74891658 0.74469986\n",
            " 0.71916378 0.70972359 0.70765799 0.67258488 0.69885647 0.71751173\n",
            " 0.71724714 0.72022682 0.74001945 0.74872303 0.7676269  0.77720289\n",
            " 0.78675825 0.79704014 0.79969268 0.80069033 0.80601433 0.77246682\n",
            " 0.7804758  0.79458977 0.79813758 0.80326372 0.79858172 0.80257761\n",
            " 0.78558879 0.79743697 0.77857181 0.77314138 0.7688696  0.77338447\n",
            " 0.78922656 0.80039551 0.82317372 0.84056834 0.8627284  0.88412861\n",
            " 0.89407095 0.88663109 0.8893307  0.89734865 0.9053666  0.91251889\n",
            " 0.89426881 0.90314984 0.9092815  0.92330895 0.90144629 0.91502592\n",
            " 0.91156462 0.92747505 0.92629834 0.92675796 0.94081786 0.95174789\n",
            " 0.95745938 0.97303209 0.96851366 0.97289089 0.97774998 0.97805549\n",
            " 0.99074328 0.99778669 1.         0.99337852]\n",
            "1 dayoutput [[0.9878249]]\n",
            "2 day input [0.68472874 0.70827111 0.70749774 0.71889035 0.71936607 0.72381801\n",
            " 0.7308946  0.72971851 0.7278579  0.71423071 0.71968731 0.73471106\n",
            " 0.73743144 0.72502335 0.73176628 0.74322931 0.74463878 0.75187611\n",
            " 0.75312029 0.76425236 0.73785616 0.74642959 0.75225708 0.74926548\n",
            " 0.72932684 0.73121609 0.72958394 0.72419063 0.74452682 0.74497453\n",
            " 0.74189383 0.7509458  0.75907842 0.74891658 0.74469986 0.71916378\n",
            " 0.70972359 0.70765799 0.67258488 0.69885647 0.71751173 0.71724714\n",
            " 0.72022682 0.74001945 0.74872303 0.7676269  0.77720289 0.78675825\n",
            " 0.79704014 0.79969268 0.80069033 0.80601433 0.77246682 0.7804758\n",
            " 0.79458977 0.79813758 0.80326372 0.79858172 0.80257761 0.78558879\n",
            " 0.79743697 0.77857181 0.77314138 0.7688696  0.77338447 0.78922656\n",
            " 0.80039551 0.82317372 0.84056834 0.8627284  0.88412861 0.89407095\n",
            " 0.88663109 0.8893307  0.89734865 0.9053666  0.91251889 0.89426881\n",
            " 0.90314984 0.9092815  0.92330895 0.90144629 0.91502592 0.91156462\n",
            " 0.92747505 0.92629834 0.92675796 0.94081786 0.95174789 0.95745938\n",
            " 0.97303209 0.96851366 0.97289089 0.97774998 0.97805549 0.99074328\n",
            " 0.99778669 1.         0.99337852 0.98782492]\n",
            "2 dayoutput [[0.983746]]\n",
            "3 day input [0.70827111 0.70749774 0.71889035 0.71936607 0.72381801 0.7308946\n",
            " 0.72971851 0.7278579  0.71423071 0.71968731 0.73471106 0.73743144\n",
            " 0.72502335 0.73176628 0.74322931 0.74463878 0.75187611 0.75312029\n",
            " 0.76425236 0.73785616 0.74642959 0.75225708 0.74926548 0.72932684\n",
            " 0.73121609 0.72958394 0.72419063 0.74452682 0.74497453 0.74189383\n",
            " 0.7509458  0.75907842 0.74891658 0.74469986 0.71916378 0.70972359\n",
            " 0.70765799 0.67258488 0.69885647 0.71751173 0.71724714 0.72022682\n",
            " 0.74001945 0.74872303 0.7676269  0.77720289 0.78675825 0.79704014\n",
            " 0.79969268 0.80069033 0.80601433 0.77246682 0.7804758  0.79458977\n",
            " 0.79813758 0.80326372 0.79858172 0.80257761 0.78558879 0.79743697\n",
            " 0.77857181 0.77314138 0.7688696  0.77338447 0.78922656 0.80039551\n",
            " 0.82317372 0.84056834 0.8627284  0.88412861 0.89407095 0.88663109\n",
            " 0.8893307  0.89734865 0.9053666  0.91251889 0.89426881 0.90314984\n",
            " 0.9092815  0.92330895 0.90144629 0.91502592 0.91156462 0.92747505\n",
            " 0.92629834 0.92675796 0.94081786 0.95174789 0.95745938 0.97303209\n",
            " 0.96851366 0.97289089 0.97774998 0.97805549 0.99074328 0.99778669\n",
            " 1.         0.99337852 0.98782492 0.98374599]\n",
            "3 dayoutput [[0.9802433]]\n",
            "4 day input [0.70749774 0.71889035 0.71936607 0.72381801 0.7308946  0.72971851\n",
            " 0.7278579  0.71423071 0.71968731 0.73471106 0.73743144 0.72502335\n",
            " 0.73176628 0.74322931 0.74463878 0.75187611 0.75312029 0.76425236\n",
            " 0.73785616 0.74642959 0.75225708 0.74926548 0.72932684 0.73121609\n",
            " 0.72958394 0.72419063 0.74452682 0.74497453 0.74189383 0.7509458\n",
            " 0.75907842 0.74891658 0.74469986 0.71916378 0.70972359 0.70765799\n",
            " 0.67258488 0.69885647 0.71751173 0.71724714 0.72022682 0.74001945\n",
            " 0.74872303 0.7676269  0.77720289 0.78675825 0.79704014 0.79969268\n",
            " 0.80069033 0.80601433 0.77246682 0.7804758  0.79458977 0.79813758\n",
            " 0.80326372 0.79858172 0.80257761 0.78558879 0.79743697 0.77857181\n",
            " 0.77314138 0.7688696  0.77338447 0.78922656 0.80039551 0.82317372\n",
            " 0.84056834 0.8627284  0.88412861 0.89407095 0.88663109 0.8893307\n",
            " 0.89734865 0.9053666  0.91251889 0.89426881 0.90314984 0.9092815\n",
            " 0.92330895 0.90144629 0.91502592 0.91156462 0.92747505 0.92629834\n",
            " 0.92675796 0.94081786 0.95174789 0.95745938 0.97303209 0.96851366\n",
            " 0.97289089 0.97774998 0.97805549 0.99074328 0.99778669 1.\n",
            " 0.99337852 0.98782492 0.98374599 0.98024333]\n",
            "4 dayoutput [[0.975969]]\n",
            "5 day input [0.71889035 0.71936607 0.72381801 0.7308946  0.72971851 0.7278579\n",
            " 0.71423071 0.71968731 0.73471106 0.73743144 0.72502335 0.73176628\n",
            " 0.74322931 0.74463878 0.75187611 0.75312029 0.76425236 0.73785616\n",
            " 0.74642959 0.75225708 0.74926548 0.72932684 0.73121609 0.72958394\n",
            " 0.72419063 0.74452682 0.74497453 0.74189383 0.7509458  0.75907842\n",
            " 0.74891658 0.74469986 0.71916378 0.70972359 0.70765799 0.67258488\n",
            " 0.69885647 0.71751173 0.71724714 0.72022682 0.74001945 0.74872303\n",
            " 0.7676269  0.77720289 0.78675825 0.79704014 0.79969268 0.80069033\n",
            " 0.80601433 0.77246682 0.7804758  0.79458977 0.79813758 0.80326372\n",
            " 0.79858172 0.80257761 0.78558879 0.79743697 0.77857181 0.77314138\n",
            " 0.7688696  0.77338447 0.78922656 0.80039551 0.82317372 0.84056834\n",
            " 0.8627284  0.88412861 0.89407095 0.88663109 0.8893307  0.89734865\n",
            " 0.9053666  0.91251889 0.89426881 0.90314984 0.9092815  0.92330895\n",
            " 0.90144629 0.91502592 0.91156462 0.92747505 0.92629834 0.92675796\n",
            " 0.94081786 0.95174789 0.95745938 0.97303209 0.96851366 0.97289089\n",
            " 0.97774998 0.97805549 0.99074328 0.99778669 1.         0.99337852\n",
            " 0.98782492 0.98374599 0.98024333 0.97596902]\n",
            "5 dayoutput [[0.9707872]]\n",
            "6 day input [0.71936607 0.72381801 0.7308946  0.72971851 0.7278579  0.71423071\n",
            " 0.71968731 0.73471106 0.73743144 0.72502335 0.73176628 0.74322931\n",
            " 0.74463878 0.75187611 0.75312029 0.76425236 0.73785616 0.74642959\n",
            " 0.75225708 0.74926548 0.72932684 0.73121609 0.72958394 0.72419063\n",
            " 0.74452682 0.74497453 0.74189383 0.7509458  0.75907842 0.74891658\n",
            " 0.74469986 0.71916378 0.70972359 0.70765799 0.67258488 0.69885647\n",
            " 0.71751173 0.71724714 0.72022682 0.74001945 0.74872303 0.7676269\n",
            " 0.77720289 0.78675825 0.79704014 0.79969268 0.80069033 0.80601433\n",
            " 0.77246682 0.7804758  0.79458977 0.79813758 0.80326372 0.79858172\n",
            " 0.80257761 0.78558879 0.79743697 0.77857181 0.77314138 0.7688696\n",
            " 0.77338447 0.78922656 0.80039551 0.82317372 0.84056834 0.8627284\n",
            " 0.88412861 0.89407095 0.88663109 0.8893307  0.89734865 0.9053666\n",
            " 0.91251889 0.89426881 0.90314984 0.9092815  0.92330895 0.90144629\n",
            " 0.91502592 0.91156462 0.92747505 0.92629834 0.92675796 0.94081786\n",
            " 0.95174789 0.95745938 0.97303209 0.96851366 0.97289089 0.97774998\n",
            " 0.97805549 0.99074328 0.99778669 1.         0.99337852 0.98782492\n",
            " 0.98374599 0.98024333 0.97596902 0.97078723]\n",
            "6 dayoutput [[0.96498656]]\n",
            "7 day input [0.72381801 0.7308946  0.72971851 0.7278579  0.71423071 0.71968731\n",
            " 0.73471106 0.73743144 0.72502335 0.73176628 0.74322931 0.74463878\n",
            " 0.75187611 0.75312029 0.76425236 0.73785616 0.74642959 0.75225708\n",
            " 0.74926548 0.72932684 0.73121609 0.72958394 0.72419063 0.74452682\n",
            " 0.74497453 0.74189383 0.7509458  0.75907842 0.74891658 0.74469986\n",
            " 0.71916378 0.70972359 0.70765799 0.67258488 0.69885647 0.71751173\n",
            " 0.71724714 0.72022682 0.74001945 0.74872303 0.7676269  0.77720289\n",
            " 0.78675825 0.79704014 0.79969268 0.80069033 0.80601433 0.77246682\n",
            " 0.7804758  0.79458977 0.79813758 0.80326372 0.79858172 0.80257761\n",
            " 0.78558879 0.79743697 0.77857181 0.77314138 0.7688696  0.77338447\n",
            " 0.78922656 0.80039551 0.82317372 0.84056834 0.8627284  0.88412861\n",
            " 0.89407095 0.88663109 0.8893307  0.89734865 0.9053666  0.91251889\n",
            " 0.89426881 0.90314984 0.9092815  0.92330895 0.90144629 0.91502592\n",
            " 0.91156462 0.92747505 0.92629834 0.92675796 0.94081786 0.95174789\n",
            " 0.95745938 0.97303209 0.96851366 0.97289089 0.97774998 0.97805549\n",
            " 0.99074328 0.99778669 1.         0.99337852 0.98782492 0.98374599\n",
            " 0.98024333 0.97596902 0.97078723 0.96498656]\n",
            "7 dayoutput [[0.9587439]]\n",
            "8 day input [0.7308946  0.72971851 0.7278579  0.71423071 0.71968731 0.73471106\n",
            " 0.73743144 0.72502335 0.73176628 0.74322931 0.74463878 0.75187611\n",
            " 0.75312029 0.76425236 0.73785616 0.74642959 0.75225708 0.74926548\n",
            " 0.72932684 0.73121609 0.72958394 0.72419063 0.74452682 0.74497453\n",
            " 0.74189383 0.7509458  0.75907842 0.74891658 0.74469986 0.71916378\n",
            " 0.70972359 0.70765799 0.67258488 0.69885647 0.71751173 0.71724714\n",
            " 0.72022682 0.74001945 0.74872303 0.7676269  0.77720289 0.78675825\n",
            " 0.79704014 0.79969268 0.80069033 0.80601433 0.77246682 0.7804758\n",
            " 0.79458977 0.79813758 0.80326372 0.79858172 0.80257761 0.78558879\n",
            " 0.79743697 0.77857181 0.77314138 0.7688696  0.77338447 0.78922656\n",
            " 0.80039551 0.82317372 0.84056834 0.8627284  0.88412861 0.89407095\n",
            " 0.88663109 0.8893307  0.89734865 0.9053666  0.91251889 0.89426881\n",
            " 0.90314984 0.9092815  0.92330895 0.90144629 0.91502592 0.91156462\n",
            " 0.92747505 0.92629834 0.92675796 0.94081786 0.95174789 0.95745938\n",
            " 0.97303209 0.96851366 0.97289089 0.97774998 0.97805549 0.99074328\n",
            " 0.99778669 1.         0.99337852 0.98782492 0.98374599 0.98024333\n",
            " 0.97596902 0.97078723 0.96498656 0.95874387]\n",
            "8 dayoutput [[0.95211786]]\n",
            "9 day input [0.72971851 0.7278579  0.71423071 0.71968731 0.73471106 0.73743144\n",
            " 0.72502335 0.73176628 0.74322931 0.74463878 0.75187611 0.75312029\n",
            " 0.76425236 0.73785616 0.74642959 0.75225708 0.74926548 0.72932684\n",
            " 0.73121609 0.72958394 0.72419063 0.74452682 0.74497453 0.74189383\n",
            " 0.7509458  0.75907842 0.74891658 0.74469986 0.71916378 0.70972359\n",
            " 0.70765799 0.67258488 0.69885647 0.71751173 0.71724714 0.72022682\n",
            " 0.74001945 0.74872303 0.7676269  0.77720289 0.78675825 0.79704014\n",
            " 0.79969268 0.80069033 0.80601433 0.77246682 0.7804758  0.79458977\n",
            " 0.79813758 0.80326372 0.79858172 0.80257761 0.78558879 0.79743697\n",
            " 0.77857181 0.77314138 0.7688696  0.77338447 0.78922656 0.80039551\n",
            " 0.82317372 0.84056834 0.8627284  0.88412861 0.89407095 0.88663109\n",
            " 0.8893307  0.89734865 0.9053666  0.91251889 0.89426881 0.90314984\n",
            " 0.9092815  0.92330895 0.90144629 0.91502592 0.91156462 0.92747505\n",
            " 0.92629834 0.92675796 0.94081786 0.95174789 0.95745938 0.97303209\n",
            " 0.96851366 0.97289089 0.97774998 0.97805549 0.99074328 0.99778669\n",
            " 1.         0.99337852 0.98782492 0.98374599 0.98024333 0.97596902\n",
            " 0.97078723 0.96498656 0.95874387 0.95211786]\n",
            "9 dayoutput [[0.9451498]]\n",
            "10 day input [0.7278579  0.71423071 0.71968731 0.73471106 0.73743144 0.72502335\n",
            " 0.73176628 0.74322931 0.74463878 0.75187611 0.75312029 0.76425236\n",
            " 0.73785616 0.74642959 0.75225708 0.74926548 0.72932684 0.73121609\n",
            " 0.72958394 0.72419063 0.74452682 0.74497453 0.74189383 0.7509458\n",
            " 0.75907842 0.74891658 0.74469986 0.71916378 0.70972359 0.70765799\n",
            " 0.67258488 0.69885647 0.71751173 0.71724714 0.72022682 0.74001945\n",
            " 0.74872303 0.7676269  0.77720289 0.78675825 0.79704014 0.79969268\n",
            " 0.80069033 0.80601433 0.77246682 0.7804758  0.79458977 0.79813758\n",
            " 0.80326372 0.79858172 0.80257761 0.78558879 0.79743697 0.77857181\n",
            " 0.77314138 0.7688696  0.77338447 0.78922656 0.80039551 0.82317372\n",
            " 0.84056834 0.8627284  0.88412861 0.89407095 0.88663109 0.8893307\n",
            " 0.89734865 0.9053666  0.91251889 0.89426881 0.90314984 0.9092815\n",
            " 0.92330895 0.90144629 0.91502592 0.91156462 0.92747505 0.92629834\n",
            " 0.92675796 0.94081786 0.95174789 0.95745938 0.97303209 0.96851366\n",
            " 0.97289089 0.97774998 0.97805549 0.99074328 0.99778669 1.\n",
            " 0.99337852 0.98782492 0.98374599 0.98024333 0.97596902 0.97078723\n",
            " 0.96498656 0.95874387 0.95211786 0.94514978]\n",
            "10 dayoutput [[0.9378944]]\n",
            "11 day input [0.71423071 0.71968731 0.73471106 0.73743144 0.72502335 0.73176628\n",
            " 0.74322931 0.74463878 0.75187611 0.75312029 0.76425236 0.73785616\n",
            " 0.74642959 0.75225708 0.74926548 0.72932684 0.73121609 0.72958394\n",
            " 0.72419063 0.74452682 0.74497453 0.74189383 0.7509458  0.75907842\n",
            " 0.74891658 0.74469986 0.71916378 0.70972359 0.70765799 0.67258488\n",
            " 0.69885647 0.71751173 0.71724714 0.72022682 0.74001945 0.74872303\n",
            " 0.7676269  0.77720289 0.78675825 0.79704014 0.79969268 0.80069033\n",
            " 0.80601433 0.77246682 0.7804758  0.79458977 0.79813758 0.80326372\n",
            " 0.79858172 0.80257761 0.78558879 0.79743697 0.77857181 0.77314138\n",
            " 0.7688696  0.77338447 0.78922656 0.80039551 0.82317372 0.84056834\n",
            " 0.8627284  0.88412861 0.89407095 0.88663109 0.8893307  0.89734865\n",
            " 0.9053666  0.91251889 0.89426881 0.90314984 0.9092815  0.92330895\n",
            " 0.90144629 0.91502592 0.91156462 0.92747505 0.92629834 0.92675796\n",
            " 0.94081786 0.95174789 0.95745938 0.97303209 0.96851366 0.97289089\n",
            " 0.97774998 0.97805549 0.99074328 0.99778669 1.         0.99337852\n",
            " 0.98782492 0.98374599 0.98024333 0.97596902 0.97078723 0.96498656\n",
            " 0.95874387 0.95211786 0.94514978 0.9378944 ]\n",
            "11 dayoutput [[0.9304109]]\n",
            "12 day input [0.71968731 0.73471106 0.73743144 0.72502335 0.73176628 0.74322931\n",
            " 0.74463878 0.75187611 0.75312029 0.76425236 0.73785616 0.74642959\n",
            " 0.75225708 0.74926548 0.72932684 0.73121609 0.72958394 0.72419063\n",
            " 0.74452682 0.74497453 0.74189383 0.7509458  0.75907842 0.74891658\n",
            " 0.74469986 0.71916378 0.70972359 0.70765799 0.67258488 0.69885647\n",
            " 0.71751173 0.71724714 0.72022682 0.74001945 0.74872303 0.7676269\n",
            " 0.77720289 0.78675825 0.79704014 0.79969268 0.80069033 0.80601433\n",
            " 0.77246682 0.7804758  0.79458977 0.79813758 0.80326372 0.79858172\n",
            " 0.80257761 0.78558879 0.79743697 0.77857181 0.77314138 0.7688696\n",
            " 0.77338447 0.78922656 0.80039551 0.82317372 0.84056834 0.8627284\n",
            " 0.88412861 0.89407095 0.88663109 0.8893307  0.89734865 0.9053666\n",
            " 0.91251889 0.89426881 0.90314984 0.9092815  0.92330895 0.90144629\n",
            " 0.91502592 0.91156462 0.92747505 0.92629834 0.92675796 0.94081786\n",
            " 0.95174789 0.95745938 0.97303209 0.96851366 0.97289089 0.97774998\n",
            " 0.97805549 0.99074328 0.99778669 1.         0.99337852 0.98782492\n",
            " 0.98374599 0.98024333 0.97596902 0.97078723 0.96498656 0.95874387\n",
            " 0.95211786 0.94514978 0.9378944  0.93041092]\n",
            "12 dayoutput [[0.9227551]]\n",
            "13 day input [0.73471106 0.73743144 0.72502335 0.73176628 0.74322931 0.74463878\n",
            " 0.75187611 0.75312029 0.76425236 0.73785616 0.74642959 0.75225708\n",
            " 0.74926548 0.72932684 0.73121609 0.72958394 0.72419063 0.74452682\n",
            " 0.74497453 0.74189383 0.7509458  0.75907842 0.74891658 0.74469986\n",
            " 0.71916378 0.70972359 0.70765799 0.67258488 0.69885647 0.71751173\n",
            " 0.71724714 0.72022682 0.74001945 0.74872303 0.7676269  0.77720289\n",
            " 0.78675825 0.79704014 0.79969268 0.80069033 0.80601433 0.77246682\n",
            " 0.7804758  0.79458977 0.79813758 0.80326372 0.79858172 0.80257761\n",
            " 0.78558879 0.79743697 0.77857181 0.77314138 0.7688696  0.77338447\n",
            " 0.78922656 0.80039551 0.82317372 0.84056834 0.8627284  0.88412861\n",
            " 0.89407095 0.88663109 0.8893307  0.89734865 0.9053666  0.91251889\n",
            " 0.89426881 0.90314984 0.9092815  0.92330895 0.90144629 0.91502592\n",
            " 0.91156462 0.92747505 0.92629834 0.92675796 0.94081786 0.95174789\n",
            " 0.95745938 0.97303209 0.96851366 0.97289089 0.97774998 0.97805549\n",
            " 0.99074328 0.99778669 1.         0.99337852 0.98782492 0.98374599\n",
            " 0.98024333 0.97596902 0.97078723 0.96498656 0.95874387 0.95211786\n",
            " 0.94514978 0.9378944  0.93041092 0.92275512]\n",
            "13 dayoutput [[0.91497844]]\n",
            "14 day input [0.73743144 0.72502335 0.73176628 0.74322931 0.74463878 0.75187611\n",
            " 0.75312029 0.76425236 0.73785616 0.74642959 0.75225708 0.74926548\n",
            " 0.72932684 0.73121609 0.72958394 0.72419063 0.74452682 0.74497453\n",
            " 0.74189383 0.7509458  0.75907842 0.74891658 0.74469986 0.71916378\n",
            " 0.70972359 0.70765799 0.67258488 0.69885647 0.71751173 0.71724714\n",
            " 0.72022682 0.74001945 0.74872303 0.7676269  0.77720289 0.78675825\n",
            " 0.79704014 0.79969268 0.80069033 0.80601433 0.77246682 0.7804758\n",
            " 0.79458977 0.79813758 0.80326372 0.79858172 0.80257761 0.78558879\n",
            " 0.79743697 0.77857181 0.77314138 0.7688696  0.77338447 0.78922656\n",
            " 0.80039551 0.82317372 0.84056834 0.8627284  0.88412861 0.89407095\n",
            " 0.88663109 0.8893307  0.89734865 0.9053666  0.91251889 0.89426881\n",
            " 0.90314984 0.9092815  0.92330895 0.90144629 0.91502592 0.91156462\n",
            " 0.92747505 0.92629834 0.92675796 0.94081786 0.95174789 0.95745938\n",
            " 0.97303209 0.96851366 0.97289089 0.97774998 0.97805549 0.99074328\n",
            " 0.99778669 1.         0.99337852 0.98782492 0.98374599 0.98024333\n",
            " 0.97596902 0.97078723 0.96498656 0.95874387 0.95211786 0.94514978\n",
            " 0.9378944  0.93041092 0.92275512 0.91497844]\n",
            "14 dayoutput [[0.90712905]]\n",
            "15 day input [0.72502335 0.73176628 0.74322931 0.74463878 0.75187611 0.75312029\n",
            " 0.76425236 0.73785616 0.74642959 0.75225708 0.74926548 0.72932684\n",
            " 0.73121609 0.72958394 0.72419063 0.74452682 0.74497453 0.74189383\n",
            " 0.7509458  0.75907842 0.74891658 0.74469986 0.71916378 0.70972359\n",
            " 0.70765799 0.67258488 0.69885647 0.71751173 0.71724714 0.72022682\n",
            " 0.74001945 0.74872303 0.7676269  0.77720289 0.78675825 0.79704014\n",
            " 0.79969268 0.80069033 0.80601433 0.77246682 0.7804758  0.79458977\n",
            " 0.79813758 0.80326372 0.79858172 0.80257761 0.78558879 0.79743697\n",
            " 0.77857181 0.77314138 0.7688696  0.77338447 0.78922656 0.80039551\n",
            " 0.82317372 0.84056834 0.8627284  0.88412861 0.89407095 0.88663109\n",
            " 0.8893307  0.89734865 0.9053666  0.91251889 0.89426881 0.90314984\n",
            " 0.9092815  0.92330895 0.90144629 0.91502592 0.91156462 0.92747505\n",
            " 0.92629834 0.92675796 0.94081786 0.95174789 0.95745938 0.97303209\n",
            " 0.96851366 0.97289089 0.97774998 0.97805549 0.99074328 0.99778669\n",
            " 1.         0.99337852 0.98782492 0.98374599 0.98024333 0.97596902\n",
            " 0.97078723 0.96498656 0.95874387 0.95211786 0.94514978 0.9378944\n",
            " 0.93041092 0.92275512 0.91497844 0.90712905]\n",
            "15 dayoutput [[0.899252]]\n",
            "16 day input [0.73176628 0.74322931 0.74463878 0.75187611 0.75312029 0.76425236\n",
            " 0.73785616 0.74642959 0.75225708 0.74926548 0.72932684 0.73121609\n",
            " 0.72958394 0.72419063 0.74452682 0.74497453 0.74189383 0.7509458\n",
            " 0.75907842 0.74891658 0.74469986 0.71916378 0.70972359 0.70765799\n",
            " 0.67258488 0.69885647 0.71751173 0.71724714 0.72022682 0.74001945\n",
            " 0.74872303 0.7676269  0.77720289 0.78675825 0.79704014 0.79969268\n",
            " 0.80069033 0.80601433 0.77246682 0.7804758  0.79458977 0.79813758\n",
            " 0.80326372 0.79858172 0.80257761 0.78558879 0.79743697 0.77857181\n",
            " 0.77314138 0.7688696  0.77338447 0.78922656 0.80039551 0.82317372\n",
            " 0.84056834 0.8627284  0.88412861 0.89407095 0.88663109 0.8893307\n",
            " 0.89734865 0.9053666  0.91251889 0.89426881 0.90314984 0.9092815\n",
            " 0.92330895 0.90144629 0.91502592 0.91156462 0.92747505 0.92629834\n",
            " 0.92675796 0.94081786 0.95174789 0.95745938 0.97303209 0.96851366\n",
            " 0.97289089 0.97774998 0.97805549 0.99074328 0.99778669 1.\n",
            " 0.99337852 0.98782492 0.98374599 0.98024333 0.97596902 0.97078723\n",
            " 0.96498656 0.95874387 0.95211786 0.94514978 0.9378944  0.93041092\n",
            " 0.92275512 0.91497844 0.90712905 0.899252  ]\n",
            "16 dayoutput [[0.89138913]]\n",
            "17 day input [0.74322931 0.74463878 0.75187611 0.75312029 0.76425236 0.73785616\n",
            " 0.74642959 0.75225708 0.74926548 0.72932684 0.73121609 0.72958394\n",
            " 0.72419063 0.74452682 0.74497453 0.74189383 0.7509458  0.75907842\n",
            " 0.74891658 0.74469986 0.71916378 0.70972359 0.70765799 0.67258488\n",
            " 0.69885647 0.71751173 0.71724714 0.72022682 0.74001945 0.74872303\n",
            " 0.7676269  0.77720289 0.78675825 0.79704014 0.79969268 0.80069033\n",
            " 0.80601433 0.77246682 0.7804758  0.79458977 0.79813758 0.80326372\n",
            " 0.79858172 0.80257761 0.78558879 0.79743697 0.77857181 0.77314138\n",
            " 0.7688696  0.77338447 0.78922656 0.80039551 0.82317372 0.84056834\n",
            " 0.8627284  0.88412861 0.89407095 0.88663109 0.8893307  0.89734865\n",
            " 0.9053666  0.91251889 0.89426881 0.90314984 0.9092815  0.92330895\n",
            " 0.90144629 0.91502592 0.91156462 0.92747505 0.92629834 0.92675796\n",
            " 0.94081786 0.95174789 0.95745938 0.97303209 0.96851366 0.97289089\n",
            " 0.97774998 0.97805549 0.99074328 0.99778669 1.         0.99337852\n",
            " 0.98782492 0.98374599 0.98024333 0.97596902 0.97078723 0.96498656\n",
            " 0.95874387 0.95211786 0.94514978 0.9378944  0.93041092 0.92275512\n",
            " 0.91497844 0.90712905 0.899252   0.89138913]\n",
            "17 dayoutput [[0.8835781]]\n",
            "18 day input [0.74463878 0.75187611 0.75312029 0.76425236 0.73785616 0.74642959\n",
            " 0.75225708 0.74926548 0.72932684 0.73121609 0.72958394 0.72419063\n",
            " 0.74452682 0.74497453 0.74189383 0.7509458  0.75907842 0.74891658\n",
            " 0.74469986 0.71916378 0.70972359 0.70765799 0.67258488 0.69885647\n",
            " 0.71751173 0.71724714 0.72022682 0.74001945 0.74872303 0.7676269\n",
            " 0.77720289 0.78675825 0.79704014 0.79969268 0.80069033 0.80601433\n",
            " 0.77246682 0.7804758  0.79458977 0.79813758 0.80326372 0.79858172\n",
            " 0.80257761 0.78558879 0.79743697 0.77857181 0.77314138 0.7688696\n",
            " 0.77338447 0.78922656 0.80039551 0.82317372 0.84056834 0.8627284\n",
            " 0.88412861 0.89407095 0.88663109 0.8893307  0.89734865 0.9053666\n",
            " 0.91251889 0.89426881 0.90314984 0.9092815  0.92330895 0.90144629\n",
            " 0.91502592 0.91156462 0.92747505 0.92629834 0.92675796 0.94081786\n",
            " 0.95174789 0.95745938 0.97303209 0.96851366 0.97289089 0.97774998\n",
            " 0.97805549 0.99074328 0.99778669 1.         0.99337852 0.98782492\n",
            " 0.98374599 0.98024333 0.97596902 0.97078723 0.96498656 0.95874387\n",
            " 0.95211786 0.94514978 0.9378944  0.93041092 0.92275512 0.91497844\n",
            " 0.90712905 0.899252   0.89138913 0.88357812]\n",
            "18 dayoutput [[0.8758533]]\n",
            "19 day input [0.75187611 0.75312029 0.76425236 0.73785616 0.74642959 0.75225708\n",
            " 0.74926548 0.72932684 0.73121609 0.72958394 0.72419063 0.74452682\n",
            " 0.74497453 0.74189383 0.7509458  0.75907842 0.74891658 0.74469986\n",
            " 0.71916378 0.70972359 0.70765799 0.67258488 0.69885647 0.71751173\n",
            " 0.71724714 0.72022682 0.74001945 0.74872303 0.7676269  0.77720289\n",
            " 0.78675825 0.79704014 0.79969268 0.80069033 0.80601433 0.77246682\n",
            " 0.7804758  0.79458977 0.79813758 0.80326372 0.79858172 0.80257761\n",
            " 0.78558879 0.79743697 0.77857181 0.77314138 0.7688696  0.77338447\n",
            " 0.78922656 0.80039551 0.82317372 0.84056834 0.8627284  0.88412861\n",
            " 0.89407095 0.88663109 0.8893307  0.89734865 0.9053666  0.91251889\n",
            " 0.89426881 0.90314984 0.9092815  0.92330895 0.90144629 0.91502592\n",
            " 0.91156462 0.92747505 0.92629834 0.92675796 0.94081786 0.95174789\n",
            " 0.95745938 0.97303209 0.96851366 0.97289089 0.97774998 0.97805549\n",
            " 0.99074328 0.99778669 1.         0.99337852 0.98782492 0.98374599\n",
            " 0.98024333 0.97596902 0.97078723 0.96498656 0.95874387 0.95211786\n",
            " 0.94514978 0.9378944  0.93041092 0.92275512 0.91497844 0.90712905\n",
            " 0.899252   0.89138913 0.88357812 0.8758533 ]\n",
            "19 dayoutput [[0.8682451]]\n",
            "20 day input [0.75312029 0.76425236 0.73785616 0.74642959 0.75225708 0.74926548\n",
            " 0.72932684 0.73121609 0.72958394 0.72419063 0.74452682 0.74497453\n",
            " 0.74189383 0.7509458  0.75907842 0.74891658 0.74469986 0.71916378\n",
            " 0.70972359 0.70765799 0.67258488 0.69885647 0.71751173 0.71724714\n",
            " 0.72022682 0.74001945 0.74872303 0.7676269  0.77720289 0.78675825\n",
            " 0.79704014 0.79969268 0.80069033 0.80601433 0.77246682 0.7804758\n",
            " 0.79458977 0.79813758 0.80326372 0.79858172 0.80257761 0.78558879\n",
            " 0.79743697 0.77857181 0.77314138 0.7688696  0.77338447 0.78922656\n",
            " 0.80039551 0.82317372 0.84056834 0.8627284  0.88412861 0.89407095\n",
            " 0.88663109 0.8893307  0.89734865 0.9053666  0.91251889 0.89426881\n",
            " 0.90314984 0.9092815  0.92330895 0.90144629 0.91502592 0.91156462\n",
            " 0.92747505 0.92629834 0.92675796 0.94081786 0.95174789 0.95745938\n",
            " 0.97303209 0.96851366 0.97289089 0.97774998 0.97805549 0.99074328\n",
            " 0.99778669 1.         0.99337852 0.98782492 0.98374599 0.98024333\n",
            " 0.97596902 0.97078723 0.96498656 0.95874387 0.95211786 0.94514978\n",
            " 0.9378944  0.93041092 0.92275512 0.91497844 0.90712905 0.899252\n",
            " 0.89138913 0.88357812 0.8758533  0.86824512]\n",
            "20 dayoutput [[0.86077976]]\n",
            "21 day input [0.76425236 0.73785616 0.74642959 0.75225708 0.74926548 0.72932684\n",
            " 0.73121609 0.72958394 0.72419063 0.74452682 0.74497453 0.74189383\n",
            " 0.7509458  0.75907842 0.74891658 0.74469986 0.71916378 0.70972359\n",
            " 0.70765799 0.67258488 0.69885647 0.71751173 0.71724714 0.72022682\n",
            " 0.74001945 0.74872303 0.7676269  0.77720289 0.78675825 0.79704014\n",
            " 0.79969268 0.80069033 0.80601433 0.77246682 0.7804758  0.79458977\n",
            " 0.79813758 0.80326372 0.79858172 0.80257761 0.78558879 0.79743697\n",
            " 0.77857181 0.77314138 0.7688696  0.77338447 0.78922656 0.80039551\n",
            " 0.82317372 0.84056834 0.8627284  0.88412861 0.89407095 0.88663109\n",
            " 0.8893307  0.89734865 0.9053666  0.91251889 0.89426881 0.90314984\n",
            " 0.9092815  0.92330895 0.90144629 0.91502592 0.91156462 0.92747505\n",
            " 0.92629834 0.92675796 0.94081786 0.95174789 0.95745938 0.97303209\n",
            " 0.96851366 0.97289089 0.97774998 0.97805549 0.99074328 0.99778669\n",
            " 1.         0.99337852 0.98782492 0.98374599 0.98024333 0.97596902\n",
            " 0.97078723 0.96498656 0.95874387 0.95211786 0.94514978 0.9378944\n",
            " 0.93041092 0.92275512 0.91497844 0.90712905 0.899252   0.89138913\n",
            " 0.88357812 0.8758533  0.86824512 0.86077976]\n",
            "21 dayoutput [[0.8534803]]\n",
            "22 day input [0.73785616 0.74642959 0.75225708 0.74926548 0.72932684 0.73121609\n",
            " 0.72958394 0.72419063 0.74452682 0.74497453 0.74189383 0.7509458\n",
            " 0.75907842 0.74891658 0.74469986 0.71916378 0.70972359 0.70765799\n",
            " 0.67258488 0.69885647 0.71751173 0.71724714 0.72022682 0.74001945\n",
            " 0.74872303 0.7676269  0.77720289 0.78675825 0.79704014 0.79969268\n",
            " 0.80069033 0.80601433 0.77246682 0.7804758  0.79458977 0.79813758\n",
            " 0.80326372 0.79858172 0.80257761 0.78558879 0.79743697 0.77857181\n",
            " 0.77314138 0.7688696  0.77338447 0.78922656 0.80039551 0.82317372\n",
            " 0.84056834 0.8627284  0.88412861 0.89407095 0.88663109 0.8893307\n",
            " 0.89734865 0.9053666  0.91251889 0.89426881 0.90314984 0.9092815\n",
            " 0.92330895 0.90144629 0.91502592 0.91156462 0.92747505 0.92629834\n",
            " 0.92675796 0.94081786 0.95174789 0.95745938 0.97303209 0.96851366\n",
            " 0.97289089 0.97774998 0.97805549 0.99074328 0.99778669 1.\n",
            " 0.99337852 0.98782492 0.98374599 0.98024333 0.97596902 0.97078723\n",
            " 0.96498656 0.95874387 0.95211786 0.94514978 0.9378944  0.93041092\n",
            " 0.92275512 0.91497844 0.90712905 0.899252   0.89138913 0.88357812\n",
            " 0.8758533  0.86824512 0.86077976 0.85348028]\n",
            "22 dayoutput [[0.846365]]\n",
            "23 day input [0.74642959 0.75225708 0.74926548 0.72932684 0.73121609 0.72958394\n",
            " 0.72419063 0.74452682 0.74497453 0.74189383 0.7509458  0.75907842\n",
            " 0.74891658 0.74469986 0.71916378 0.70972359 0.70765799 0.67258488\n",
            " 0.69885647 0.71751173 0.71724714 0.72022682 0.74001945 0.74872303\n",
            " 0.7676269  0.77720289 0.78675825 0.79704014 0.79969268 0.80069033\n",
            " 0.80601433 0.77246682 0.7804758  0.79458977 0.79813758 0.80326372\n",
            " 0.79858172 0.80257761 0.78558879 0.79743697 0.77857181 0.77314138\n",
            " 0.7688696  0.77338447 0.78922656 0.80039551 0.82317372 0.84056834\n",
            " 0.8627284  0.88412861 0.89407095 0.88663109 0.8893307  0.89734865\n",
            " 0.9053666  0.91251889 0.89426881 0.90314984 0.9092815  0.92330895\n",
            " 0.90144629 0.91502592 0.91156462 0.92747505 0.92629834 0.92675796\n",
            " 0.94081786 0.95174789 0.95745938 0.97303209 0.96851366 0.97289089\n",
            " 0.97774998 0.97805549 0.99074328 0.99778669 1.         0.99337852\n",
            " 0.98782492 0.98374599 0.98024333 0.97596902 0.97078723 0.96498656\n",
            " 0.95874387 0.95211786 0.94514978 0.9378944  0.93041092 0.92275512\n",
            " 0.91497844 0.90712905 0.899252   0.89138913 0.88357812 0.8758533\n",
            " 0.86824512 0.86077976 0.85348028 0.84636497]\n",
            "23 dayoutput [[0.8394496]]\n",
            "24 day input [0.75225708 0.74926548 0.72932684 0.73121609 0.72958394 0.72419063\n",
            " 0.74452682 0.74497453 0.74189383 0.7509458  0.75907842 0.74891658\n",
            " 0.74469986 0.71916378 0.70972359 0.70765799 0.67258488 0.69885647\n",
            " 0.71751173 0.71724714 0.72022682 0.74001945 0.74872303 0.7676269\n",
            " 0.77720289 0.78675825 0.79704014 0.79969268 0.80069033 0.80601433\n",
            " 0.77246682 0.7804758  0.79458977 0.79813758 0.80326372 0.79858172\n",
            " 0.80257761 0.78558879 0.79743697 0.77857181 0.77314138 0.7688696\n",
            " 0.77338447 0.78922656 0.80039551 0.82317372 0.84056834 0.8627284\n",
            " 0.88412861 0.89407095 0.88663109 0.8893307  0.89734865 0.9053666\n",
            " 0.91251889 0.89426881 0.90314984 0.9092815  0.92330895 0.90144629\n",
            " 0.91502592 0.91156462 0.92747505 0.92629834 0.92675796 0.94081786\n",
            " 0.95174789 0.95745938 0.97303209 0.96851366 0.97289089 0.97774998\n",
            " 0.97805549 0.99074328 0.99778669 1.         0.99337852 0.98782492\n",
            " 0.98374599 0.98024333 0.97596902 0.97078723 0.96498656 0.95874387\n",
            " 0.95211786 0.94514978 0.9378944  0.93041092 0.92275512 0.91497844\n",
            " 0.90712905 0.899252   0.89138913 0.88357812 0.8758533  0.86824512\n",
            " 0.86077976 0.85348028 0.84636497 0.83944958]\n",
            "24 dayoutput [[0.83274585]]\n",
            "25 day input [0.74926548 0.72932684 0.73121609 0.72958394 0.72419063 0.74452682\n",
            " 0.74497453 0.74189383 0.7509458  0.75907842 0.74891658 0.74469986\n",
            " 0.71916378 0.70972359 0.70765799 0.67258488 0.69885647 0.71751173\n",
            " 0.71724714 0.72022682 0.74001945 0.74872303 0.7676269  0.77720289\n",
            " 0.78675825 0.79704014 0.79969268 0.80069033 0.80601433 0.77246682\n",
            " 0.7804758  0.79458977 0.79813758 0.80326372 0.79858172 0.80257761\n",
            " 0.78558879 0.79743697 0.77857181 0.77314138 0.7688696  0.77338447\n",
            " 0.78922656 0.80039551 0.82317372 0.84056834 0.8627284  0.88412861\n",
            " 0.89407095 0.88663109 0.8893307  0.89734865 0.9053666  0.91251889\n",
            " 0.89426881 0.90314984 0.9092815  0.92330895 0.90144629 0.91502592\n",
            " 0.91156462 0.92747505 0.92629834 0.92675796 0.94081786 0.95174789\n",
            " 0.95745938 0.97303209 0.96851366 0.97289089 0.97774998 0.97805549\n",
            " 0.99074328 0.99778669 1.         0.99337852 0.98782492 0.98374599\n",
            " 0.98024333 0.97596902 0.97078723 0.96498656 0.95874387 0.95211786\n",
            " 0.94514978 0.9378944  0.93041092 0.92275512 0.91497844 0.90712905\n",
            " 0.899252   0.89138913 0.88357812 0.8758533  0.86824512 0.86077976\n",
            " 0.85348028 0.84636497 0.83944958 0.83274585]\n",
            "25 dayoutput [[0.8262623]]\n",
            "26 day input [0.72932684 0.73121609 0.72958394 0.72419063 0.74452682 0.74497453\n",
            " 0.74189383 0.7509458  0.75907842 0.74891658 0.74469986 0.71916378\n",
            " 0.70972359 0.70765799 0.67258488 0.69885647 0.71751173 0.71724714\n",
            " 0.72022682 0.74001945 0.74872303 0.7676269  0.77720289 0.78675825\n",
            " 0.79704014 0.79969268 0.80069033 0.80601433 0.77246682 0.7804758\n",
            " 0.79458977 0.79813758 0.80326372 0.79858172 0.80257761 0.78558879\n",
            " 0.79743697 0.77857181 0.77314138 0.7688696  0.77338447 0.78922656\n",
            " 0.80039551 0.82317372 0.84056834 0.8627284  0.88412861 0.89407095\n",
            " 0.88663109 0.8893307  0.89734865 0.9053666  0.91251889 0.89426881\n",
            " 0.90314984 0.9092815  0.92330895 0.90144629 0.91502592 0.91156462\n",
            " 0.92747505 0.92629834 0.92675796 0.94081786 0.95174789 0.95745938\n",
            " 0.97303209 0.96851366 0.97289089 0.97774998 0.97805549 0.99074328\n",
            " 0.99778669 1.         0.99337852 0.98782492 0.98374599 0.98024333\n",
            " 0.97596902 0.97078723 0.96498656 0.95874387 0.95211786 0.94514978\n",
            " 0.9378944  0.93041092 0.92275512 0.91497844 0.90712905 0.899252\n",
            " 0.89138913 0.88357812 0.8758533  0.86824512 0.86077976 0.85348028\n",
            " 0.84636497 0.83944958 0.83274585 0.8262623 ]\n",
            "26 dayoutput [[0.82000476]]\n",
            "27 day input [0.73121609 0.72958394 0.72419063 0.74452682 0.74497453 0.74189383\n",
            " 0.7509458  0.75907842 0.74891658 0.74469986 0.71916378 0.70972359\n",
            " 0.70765799 0.67258488 0.69885647 0.71751173 0.71724714 0.72022682\n",
            " 0.74001945 0.74872303 0.7676269  0.77720289 0.78675825 0.79704014\n",
            " 0.79969268 0.80069033 0.80601433 0.77246682 0.7804758  0.79458977\n",
            " 0.79813758 0.80326372 0.79858172 0.80257761 0.78558879 0.79743697\n",
            " 0.77857181 0.77314138 0.7688696  0.77338447 0.78922656 0.80039551\n",
            " 0.82317372 0.84056834 0.8627284  0.88412861 0.89407095 0.88663109\n",
            " 0.8893307  0.89734865 0.9053666  0.91251889 0.89426881 0.90314984\n",
            " 0.9092815  0.92330895 0.90144629 0.91502592 0.91156462 0.92747505\n",
            " 0.92629834 0.92675796 0.94081786 0.95174789 0.95745938 0.97303209\n",
            " 0.96851366 0.97289089 0.97774998 0.97805549 0.99074328 0.99778669\n",
            " 1.         0.99337852 0.98782492 0.98374599 0.98024333 0.97596902\n",
            " 0.97078723 0.96498656 0.95874387 0.95211786 0.94514978 0.9378944\n",
            " 0.93041092 0.92275512 0.91497844 0.90712905 0.899252   0.89138913\n",
            " 0.88357812 0.8758533  0.86824512 0.86077976 0.85348028 0.84636497\n",
            " 0.83944958 0.83274585 0.8262623  0.82000476]\n",
            "27 dayoutput [[0.8139761]]\n",
            "28 day input [0.72958394 0.72419063 0.74452682 0.74497453 0.74189383 0.7509458\n",
            " 0.75907842 0.74891658 0.74469986 0.71916378 0.70972359 0.70765799\n",
            " 0.67258488 0.69885647 0.71751173 0.71724714 0.72022682 0.74001945\n",
            " 0.74872303 0.7676269  0.77720289 0.78675825 0.79704014 0.79969268\n",
            " 0.80069033 0.80601433 0.77246682 0.7804758  0.79458977 0.79813758\n",
            " 0.80326372 0.79858172 0.80257761 0.78558879 0.79743697 0.77857181\n",
            " 0.77314138 0.7688696  0.77338447 0.78922656 0.80039551 0.82317372\n",
            " 0.84056834 0.8627284  0.88412861 0.89407095 0.88663109 0.8893307\n",
            " 0.89734865 0.9053666  0.91251889 0.89426881 0.90314984 0.9092815\n",
            " 0.92330895 0.90144629 0.91502592 0.91156462 0.92747505 0.92629834\n",
            " 0.92675796 0.94081786 0.95174789 0.95745938 0.97303209 0.96851366\n",
            " 0.97289089 0.97774998 0.97805549 0.99074328 0.99778669 1.\n",
            " 0.99337852 0.98782492 0.98374599 0.98024333 0.97596902 0.97078723\n",
            " 0.96498656 0.95874387 0.95211786 0.94514978 0.9378944  0.93041092\n",
            " 0.92275512 0.91497844 0.90712905 0.899252   0.89138913 0.88357812\n",
            " 0.8758533  0.86824512 0.86077976 0.85348028 0.84636497 0.83944958\n",
            " 0.83274585 0.8262623  0.82000476 0.81397611]\n",
            "28 dayoutput [[0.80817676]]\n",
            "29 day input [0.72419063 0.74452682 0.74497453 0.74189383 0.7509458  0.75907842\n",
            " 0.74891658 0.74469986 0.71916378 0.70972359 0.70765799 0.67258488\n",
            " 0.69885647 0.71751173 0.71724714 0.72022682 0.74001945 0.74872303\n",
            " 0.7676269  0.77720289 0.78675825 0.79704014 0.79969268 0.80069033\n",
            " 0.80601433 0.77246682 0.7804758  0.79458977 0.79813758 0.80326372\n",
            " 0.79858172 0.80257761 0.78558879 0.79743697 0.77857181 0.77314138\n",
            " 0.7688696  0.77338447 0.78922656 0.80039551 0.82317372 0.84056834\n",
            " 0.8627284  0.88412861 0.89407095 0.88663109 0.8893307  0.89734865\n",
            " 0.9053666  0.91251889 0.89426881 0.90314984 0.9092815  0.92330895\n",
            " 0.90144629 0.91502592 0.91156462 0.92747505 0.92629834 0.92675796\n",
            " 0.94081786 0.95174789 0.95745938 0.97303209 0.96851366 0.97289089\n",
            " 0.97774998 0.97805549 0.99074328 0.99778669 1.         0.99337852\n",
            " 0.98782492 0.98374599 0.98024333 0.97596902 0.97078723 0.96498656\n",
            " 0.95874387 0.95211786 0.94514978 0.9378944  0.93041092 0.92275512\n",
            " 0.91497844 0.90712905 0.899252   0.89138913 0.88357812 0.8758533\n",
            " 0.86824512 0.86077976 0.85348028 0.84636497 0.83944958 0.83274585\n",
            " 0.8262623  0.82000476 0.81397611 0.80817676]\n",
            "29 dayoutput [[0.8026047]]\n",
            "[[0.9933785200119019], [0.9878249168395996], [0.9837459921836853], [0.9802433252334595], [0.9759690165519714], [0.9707872271537781], [0.9649865627288818], [0.9587438702583313], [0.9521178603172302], [0.9451497793197632], [0.9378944039344788], [0.9304109215736389], [0.9227551221847534], [0.9149784445762634], [0.9071290493011475], [0.8992519974708557], [0.8913891315460205], [0.8835781216621399], [0.8758533000946045], [0.8682451248168945], [0.8607797622680664], [0.8534802794456482], [0.8463649749755859], [0.8394495844841003], [0.8327458500862122], [0.8262622952461243], [0.8200047612190247], [0.8139761090278625], [0.8081767559051514], [0.8026046752929688]]\n"
          ],
          "name": "stdout"
        }
      ]
    },
    {
      "cell_type": "code",
      "metadata": {
        "id": "2PNw5KlEiua5"
      },
      "source": [
        "day_new = np.arange(1, 101)\r\n",
        "day_pred = np.arange(101, 131)"
      ],
      "execution_count": 53,
      "outputs": []
    },
    {
      "cell_type": "code",
      "metadata": {
        "colab": {
          "base_uri": "https://localhost:8080/"
        },
        "id": "u0D6jVcIoWBc",
        "outputId": "8763ebc5-2e1c-4a4f-8865-437aa58321df"
      },
      "source": [
        "len(df1)"
      ],
      "execution_count": 54,
      "outputs": [
        {
          "output_type": "execute_result",
          "data": {
            "text/plain": [
              "2471"
            ]
          },
          "metadata": {
            "tags": []
          },
          "execution_count": 54
        }
      ]
    },
    {
      "cell_type": "code",
      "metadata": {
        "id": "mVYDdh_qoYOt"
      },
      "source": [
        "df3 = df1.tolist()\r\n",
        "df3.extend(lst_output)"
      ],
      "execution_count": 55,
      "outputs": []
    },
    {
      "cell_type": "code",
      "metadata": {
        "colab": {
          "base_uri": "https://localhost:8080/",
          "height": 283
        },
        "id": "_C-3y8Uoodb_",
        "outputId": "94aca3be-7ef0-4863-90dd-590adf7092ee"
      },
      "source": [
        "plt.plot(day_new, scaler.inverse_transform(df1[len(df1)-100:]))\r\n",
        "plt.plot(day_pred, scaler.inverse_transform(lst_output))"
      ],
      "execution_count": 57,
      "outputs": [
        {
          "output_type": "execute_result",
          "data": {
            "text/plain": [
              "[<matplotlib.lines.Line2D at 0x7f4d6bf0eba8>]"
            ]
          },
          "metadata": {
            "tags": []
          },
          "execution_count": 57
        },
        {
          "output_type": "display_data",
          "data": {
            "image/png": "[encoded data removed]",
            "text/plain": [
              "<Figure size 432x288 with 1 Axes>"
            ]
          },
          "metadata": {
            "tags": [],
            "needs_background": "light"
          }
        }
      ]
    },
    {
      "cell_type": "code",
      "metadata": {
        "colab": {
          "base_uri": "https://localhost:8080/"
        },
        "id": "ujVkbX1jo4DD",
        "outputId": "44d2efc5-0f2c-4455-f8b1-125a8096ac23"
      },
      "source": [
        "scaler.inverse_transform(lst_output)"
      ],
      "execution_count": 58,
      "outputs": [
        {
          "output_type": "execute_result",
          "data": {
            "text/plain": [
              "array([[46750.22361668],\n",
              "       [46573.69894478],\n",
              "       [46444.04783103],\n",
              "       [46332.71342074],\n",
              "       [46196.85190629],\n",
              "       [46032.1455625 ],\n",
              "       [45847.76789764],\n",
              "       [45649.34010113],\n",
              "       [45438.72832449],\n",
              "       [45217.2436102 ],\n",
              "       [44986.62706817],\n",
              "       [44748.76000647],\n",
              "       [44505.41574269],\n",
              "       [44258.2292908 ],\n",
              "       [44008.73146342],\n",
              "       [43758.35455554],\n",
              "       [43508.42855533],\n",
              "       [43260.15083108],\n",
              "       [43014.61265515],\n",
              "       [42772.78215286],\n",
              "       [42535.49104046],\n",
              "       [42303.47251657],\n",
              "       [42077.30821421],\n",
              "       [41857.49829986],\n",
              "       [41644.41600385],\n",
              "       [41438.33224967],\n",
              "       [41239.43270522],\n",
              "       [41047.80830984],\n",
              "       [40863.47232553],\n",
              "       [40686.3603369 ]])"
            ]
          },
          "metadata": {
            "tags": []
          },
          "execution_count": 58
        }
      ]
    },
    {
      "cell_type": "code",
      "metadata": {
        "id": "BhSoK8lopSHH"
      },
      "source": [
        ""
      ],
      "execution_count": null,
      "outputs": []
    }
  ]
}